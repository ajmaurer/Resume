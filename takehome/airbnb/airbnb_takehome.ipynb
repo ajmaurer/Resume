{
 "cells": [
  {
   "cell_type": "markdown",
   "metadata": {},
   "source": [
    "If you're reading this as a pdf, my appologies for some of the code being cut off. I made it originally as an ipython notebook, and all of the options to turn it into a pdf seem to result in some amount of loss."
   ]
  },
  {
   "cell_type": "code",
   "execution_count": 8,
   "metadata": {
    "collapsed": false
   },
   "outputs": [],
   "source": [
    "# imports; may not end up using all of these\n",
    "import pandas as pd, numpy as np, numpy.linalg as nplin, matplotlib.pyplot as plt, \\\n",
    "    scipy as sp, scipy.stats as spstat, sklearn as sk, datetime as dt, \\\n",
    "    statsmodels.api as sm, statsmodels.formula.api as smf\n",
    "from __future__ import division\n",
    "from datetime import datetime, time\n",
    "from pandas.tseries.offsets import DateOffset\n",
    "from orthogonal_poly import *   # replicates the poly command in R\n",
    "%matplotlib inline"
   ]
  },
  {
   "cell_type": "markdown",
   "metadata": {},
   "source": [
    "###Do some basic data cleaning\n",
    "#####I start with reading in and merging the two data sets"
   ]
  },
  {
   "cell_type": "code",
   "execution_count": 16,
   "metadata": {
    "collapsed": false
   },
   "outputs": [
    {
     "name": "stdout",
     "output_type": "stream",
     "text": [
      "id_user and id_guest are mismatched 0 times\n"
     ]
    }
   ],
   "source": [
    "# read in the two data sets and merge them into one, matching the id_user in assign to id_guest in contacts\n",
    "assign = pd.read_csv(\"takehome_assignments.csv\",header=0)\n",
    "contacts = pd.read_csv(\"takehome_contacts.csv\",header=0)\n",
    "\n",
    "# I normally avoid concatenating two tables just by row number (its better to be careful and merge by unique id)\n",
    "# However, that is unavoidable in this case, since id_guest doesn't uniquely define the rows of assign, \n",
    "# and the row numbers appear to match\n",
    "data = pd.concat([assign,contacts],1)\n",
    "\n",
    "# Check to make sure that I got the matching I wanted\n",
    "print \"id_user and id_guest are mismatched %d times\" % (sum(data.id_guest!=data.id_user))"
   ]
  },
  {
   "cell_type": "markdown",
   "metadata": {},
   "source": [
    "Deal with same guest & listing combo appearing multiple times"
   ]
  },
  {
   "cell_type": "code",
   "execution_count": 17,
   "metadata": {
    "collapsed": false
   },
   "outputs": [
    {
     "data": {
      "text/html": [
       "<div>\n",
       "<table border=\"1\" class=\"dataframe\">\n",
       "  <thead>\n",
       "    <tr style=\"text-align: right;\">\n",
       "      <th></th>\n",
       "      <th></th>\n",
       "      <th></th>\n",
       "      <th>ab</th>\n",
       "      <th>ts_interaction_first</th>\n",
       "      <th>ts_reply_at_first</th>\n",
       "      <th>ts_accepted_at_first</th>\n",
       "      <th>ts_booking_at</th>\n",
       "      <th>dim_contact_channel</th>\n",
       "      <th>m_first_message_length</th>\n",
       "    </tr>\n",
       "    <tr>\n",
       "      <th>id_guest</th>\n",
       "      <th>id_host</th>\n",
       "      <th>id_listing</th>\n",
       "      <th></th>\n",
       "      <th></th>\n",
       "      <th></th>\n",
       "      <th></th>\n",
       "      <th></th>\n",
       "      <th></th>\n",
       "      <th></th>\n",
       "    </tr>\n",
       "  </thead>\n",
       "  <tbody>\n",
       "    <tr>\n",
       "      <th rowspan=\"2\" valign=\"top\">358f8e36-f99a-42d8-82e6-0b0577910900</th>\n",
       "      <th rowspan=\"2\" valign=\"top\">cb0b0e8b-061c-4bf6-9e5a-db806ffaa3d3</th>\n",
       "      <th>e723dcab-3a75-4f72-97b9-daf264e604cf</th>\n",
       "      <td>control</td>\n",
       "      <td>2013-01-07 20:08:25</td>\n",
       "      <td>2013-01-07 20:06:46.0</td>\n",
       "      <td>2013-01-07 20:06:46.0</td>\n",
       "      <td>2013-01-07 20:06:46.0</td>\n",
       "      <td>book_it</td>\n",
       "      <td>0</td>\n",
       "    </tr>\n",
       "    <tr>\n",
       "      <th>e723dcab-3a75-4f72-97b9-daf264e604cf</th>\n",
       "      <td>treatment</td>\n",
       "      <td>2013-01-03 10:36:47</td>\n",
       "      <td>2013-01-03 14:53:52.0</td>\n",
       "      <td>2013-01-03 22:25:24.0</td>\n",
       "      <td>2013-01-04 07:13:06.0</td>\n",
       "      <td>contact_me</td>\n",
       "      <td>239</td>\n",
       "    </tr>\n",
       "  </tbody>\n",
       "</table>\n",
       "</div>"
      ],
      "text/plain": [
       "                                                                                                                       ab  \\\n",
       "id_guest                             id_host                              id_listing                                        \n",
       "358f8e36-f99a-42d8-82e6-0b0577910900 cb0b0e8b-061c-4bf6-9e5a-db806ffaa3d3 e723dcab-3a75-4f72-97b9-daf264e604cf    control   \n",
       "                                                                          e723dcab-3a75-4f72-97b9-daf264e604cf  treatment   \n",
       "\n",
       "                                                                                                               ts_interaction_first  \\\n",
       "id_guest                             id_host                              id_listing                                                  \n",
       "358f8e36-f99a-42d8-82e6-0b0577910900 cb0b0e8b-061c-4bf6-9e5a-db806ffaa3d3 e723dcab-3a75-4f72-97b9-daf264e604cf  2013-01-07 20:08:25   \n",
       "                                                                          e723dcab-3a75-4f72-97b9-daf264e604cf  2013-01-03 10:36:47   \n",
       "\n",
       "                                                                                                                    ts_reply_at_first  \\\n",
       "id_guest                             id_host                              id_listing                                                    \n",
       "358f8e36-f99a-42d8-82e6-0b0577910900 cb0b0e8b-061c-4bf6-9e5a-db806ffaa3d3 e723dcab-3a75-4f72-97b9-daf264e604cf  2013-01-07 20:06:46.0   \n",
       "                                                                          e723dcab-3a75-4f72-97b9-daf264e604cf  2013-01-03 14:53:52.0   \n",
       "\n",
       "                                                                                                                 ts_accepted_at_first  \\\n",
       "id_guest                             id_host                              id_listing                                                    \n",
       "358f8e36-f99a-42d8-82e6-0b0577910900 cb0b0e8b-061c-4bf6-9e5a-db806ffaa3d3 e723dcab-3a75-4f72-97b9-daf264e604cf  2013-01-07 20:06:46.0   \n",
       "                                                                          e723dcab-3a75-4f72-97b9-daf264e604cf  2013-01-03 22:25:24.0   \n",
       "\n",
       "                                                                                                                        ts_booking_at  \\\n",
       "id_guest                             id_host                              id_listing                                                    \n",
       "358f8e36-f99a-42d8-82e6-0b0577910900 cb0b0e8b-061c-4bf6-9e5a-db806ffaa3d3 e723dcab-3a75-4f72-97b9-daf264e604cf  2013-01-07 20:06:46.0   \n",
       "                                                                          e723dcab-3a75-4f72-97b9-daf264e604cf  2013-01-04 07:13:06.0   \n",
       "\n",
       "                                                                                                               dim_contact_channel  \\\n",
       "id_guest                             id_host                              id_listing                                                 \n",
       "358f8e36-f99a-42d8-82e6-0b0577910900 cb0b0e8b-061c-4bf6-9e5a-db806ffaa3d3 e723dcab-3a75-4f72-97b9-daf264e604cf             book_it   \n",
       "                                                                          e723dcab-3a75-4f72-97b9-daf264e604cf          contact_me   \n",
       "\n",
       "                                                                                                                m_first_message_length  \n",
       "id_guest                             id_host                              id_listing                                                    \n",
       "358f8e36-f99a-42d8-82e6-0b0577910900 cb0b0e8b-061c-4bf6-9e5a-db806ffaa3d3 e723dcab-3a75-4f72-97b9-daf264e604cf                       0  \n",
       "                                                                          e723dcab-3a75-4f72-97b9-daf264e604cf                     239  "
      ]
     },
     "execution_count": 17,
     "metadata": {},
     "output_type": "execute_result"
    }
   ],
   "source": [
    "# Drop the redundant id_user column\n",
    "data.drop('id_user',axis=1,inplace=True)\n",
    "\n",
    "# Index the data set by the three ids, and see if there are any dupplicates\n",
    "# One would presume that if a guest contacts a host twice, that might have some effect on the response times\n",
    "data.set_index(keys=[\"id_guest\",\"id_host\",\"id_listing\"],inplace=True)\n",
    "dups = data.index.get_duplicates()\n",
    "data.loc[dups]"
   ]
  },
  {
   "cell_type": "markdown",
   "metadata": {},
   "source": [
    "There is only one case of a duplicated request, so I'm just going to drop the duplicate and the original. One might just keep the contact_me observation which occured first and drop the book_it observation which occured second, but it doesn't make much difference either way"
   ]
  },
  {
   "cell_type": "code",
   "execution_count": 18,
   "metadata": {
    "collapsed": false
   },
   "outputs": [],
   "source": [
    "# drop it like it's hot\n",
    "data.drop(dups,axis=0,inplace=True)"
   ]
  },
  {
   "cell_type": "markdown",
   "metadata": {},
   "source": [
    "#####Convert the time stamps from strings to a datetime value"
   ]
  },
  {
   "cell_type": "markdown",
   "metadata": {},
   "source": [
    "Now, I'm going to clean up these dates. I want the time of the first contact, and then the time lags from that to the other time variables."
   ]
  },
  {
   "cell_type": "code",
   "execution_count": 19,
   "metadata": {
    "collapsed": false
   },
   "outputs": [
    {
     "name": "stdout",
     "output_type": "stream",
     "text": [
      "ts_interaction_first preceeded ts_reply_at_first 154 times\n",
      "ts_interaction_first preceeded ts_accepted_at_first 109 times\n",
      "ts_interaction_first preceeded ts_booking_at 87 times\n",
      "ts_reply_at_first preceeded ts_accepted_at_first 0 times\n",
      "ts_reply_at_first preceeded ts_booking_at 0 times\n",
      "ts_accepted_at_first preceeded ts_booking_at 0 times\n"
     ]
    }
   ],
   "source": [
    "# first, replace each string variable with a date time variable\n",
    "timevars = [\"ts_interaction_first\",\"ts_reply_at_first\",\"ts_accepted_at_first\",\"ts_booking_at\"]\n",
    "for tv in timevars:\n",
    "    data[tv] = pd.to_datetime(data[tv])\n",
    "\n",
    "# Calculate lags from first interaction:\n",
    "for tv in timevars[1:]:\n",
    "    data[tv + '_lag'] = data[tv] - data.ts_interaction_first    \n",
    "    \n",
    "# Sense checks. Do the time variables follow the proper order?\n",
    "for i in range(len(timevars)):\n",
    "    for j in range(i+1,len(timevars)):\n",
    "        tv1, tv2 = timevars[i],timevars[j]\n",
    "        print \"%s preceeded %s %d times\" % (tv1,tv2,sum(np.logical_and(pd.notnull(data[tv2]),data[tv1]>data[tv2])))"
   ]
  },
  {
   "cell_type": "markdown",
   "metadata": {},
   "source": [
    "It seems that sometimes there are issues with the first interaction preceeding the follow ups (which should be impossible)\n"
   ]
  },
  {
   "cell_type": "code",
   "execution_count": 20,
   "metadata": {
    "collapsed": false
   },
   "outputs": [
    {
     "data": {
      "text/html": [
       "<div>\n",
       "<table border=\"1\" class=\"dataframe\">\n",
       "  <thead>\n",
       "    <tr style=\"text-align: right;\">\n",
       "      <th></th>\n",
       "      <th></th>\n",
       "      <th></th>\n",
       "      <th>ab</th>\n",
       "      <th>ts_interaction_first</th>\n",
       "      <th>ts_reply_at_first</th>\n",
       "      <th>ts_accepted_at_first</th>\n",
       "      <th>ts_booking_at</th>\n",
       "      <th>dim_contact_channel</th>\n",
       "      <th>m_first_message_length</th>\n",
       "      <th>ts_reply_at_first_lag</th>\n",
       "      <th>ts_accepted_at_first_lag</th>\n",
       "      <th>ts_booking_at_lag</th>\n",
       "    </tr>\n",
       "    <tr>\n",
       "      <th>id_guest</th>\n",
       "      <th>id_host</th>\n",
       "      <th>id_listing</th>\n",
       "      <th></th>\n",
       "      <th></th>\n",
       "      <th></th>\n",
       "      <th></th>\n",
       "      <th></th>\n",
       "      <th></th>\n",
       "      <th></th>\n",
       "      <th></th>\n",
       "      <th></th>\n",
       "      <th></th>\n",
       "    </tr>\n",
       "  </thead>\n",
       "  <tbody>\n",
       "    <tr>\n",
       "      <th>30abce0e-e105-41b0-b31a-0673efa0cd26</th>\n",
       "      <th>a8b671c7-4bdf-4896-b42f-2ba1b1a93adf</th>\n",
       "      <th>6e59bc7e-8084-4ff4-a1b2-21399a6b8829</th>\n",
       "      <td>treatment</td>\n",
       "      <td>2013-02-11 09:51:06</td>\n",
       "      <td>2013-02-11 09:49:27</td>\n",
       "      <td>2013-02-11 09:49:27</td>\n",
       "      <td>2013-02-11 09:49:27</td>\n",
       "      <td>instant_booked</td>\n",
       "      <td>391</td>\n",
       "      <td>-1 days +23:58:21</td>\n",
       "      <td>-1 days +23:58:21</td>\n",
       "      <td>-1 days +23:58:21</td>\n",
       "    </tr>\n",
       "    <tr>\n",
       "      <th>0de89a34-2978-4bbf-b60a-f6607affa804</th>\n",
       "      <th>f50d600e-b995-4313-aa7b-a5ac605bf5e0</th>\n",
       "      <th>5051a4f0-d301-48f3-81fc-093c8550570b</th>\n",
       "      <td>treatment</td>\n",
       "      <td>2013-03-08 05:36:44</td>\n",
       "      <td>2013-03-08 05:36:33</td>\n",
       "      <td>2013-03-08 05:36:33</td>\n",
       "      <td>2013-03-08 05:36:33</td>\n",
       "      <td>book_it</td>\n",
       "      <td>277</td>\n",
       "      <td>-1 days +23:59:49</td>\n",
       "      <td>-1 days +23:59:49</td>\n",
       "      <td>-1 days +23:59:49</td>\n",
       "    </tr>\n",
       "    <tr>\n",
       "      <th>14f79f2c-cd59-4f28-bb92-0c9b0100479d</th>\n",
       "      <th>f5539bb0-8edf-4135-b753-0daaa650d6dc</th>\n",
       "      <th>c9bba49e-525d-4762-9daa-a687d4fd7cc3</th>\n",
       "      <td>control</td>\n",
       "      <td>2013-03-10 21:23:13</td>\n",
       "      <td>2013-03-10 21:22:57</td>\n",
       "      <td>2013-03-11 02:31:25</td>\n",
       "      <td>2013-03-11 02:31:25</td>\n",
       "      <td>contact_me</td>\n",
       "      <td>193</td>\n",
       "      <td>-1 days +23:59:44</td>\n",
       "      <td>05:08:12</td>\n",
       "      <td>05:08:12</td>\n",
       "    </tr>\n",
       "    <tr>\n",
       "      <th>ef1a48d7-e2f0-4820-b54c-4e8b0860ccc6</th>\n",
       "      <th>a73083f8-89c8-4d3a-b079-f8b00f57c71e</th>\n",
       "      <th>4348c9ec-6f7c-4301-a159-a771b4c5cbbc</th>\n",
       "      <td>treatment</td>\n",
       "      <td>2013-03-15 17:17:17</td>\n",
       "      <td>2013-03-15 17:16:17</td>\n",
       "      <td>NaT</td>\n",
       "      <td>NaT</td>\n",
       "      <td>contact_me</td>\n",
       "      <td>274</td>\n",
       "      <td>-1 days +23:59:00</td>\n",
       "      <td>NaT</td>\n",
       "      <td>NaT</td>\n",
       "    </tr>\n",
       "    <tr>\n",
       "      <th>9d155939-c4c1-4fad-9328-ddc853034ecb</th>\n",
       "      <th>dd6affae-f76d-40dd-a31f-aaee70334e8d</th>\n",
       "      <th>b94f0316-2f10-4f62-b2e7-58e095f612d8</th>\n",
       "      <td>control</td>\n",
       "      <td>2013-03-19 16:24:31</td>\n",
       "      <td>2013-03-19 16:22:51</td>\n",
       "      <td>NaT</td>\n",
       "      <td>NaT</td>\n",
       "      <td>contact_me</td>\n",
       "      <td>0</td>\n",
       "      <td>-1 days +23:58:20</td>\n",
       "      <td>NaT</td>\n",
       "      <td>NaT</td>\n",
       "    </tr>\n",
       "  </tbody>\n",
       "</table>\n",
       "</div>"
      ],
      "text/plain": [
       "                                                                                                                       ab  \\\n",
       "id_guest                             id_host                              id_listing                                        \n",
       "30abce0e-e105-41b0-b31a-0673efa0cd26 a8b671c7-4bdf-4896-b42f-2ba1b1a93adf 6e59bc7e-8084-4ff4-a1b2-21399a6b8829  treatment   \n",
       "0de89a34-2978-4bbf-b60a-f6607affa804 f50d600e-b995-4313-aa7b-a5ac605bf5e0 5051a4f0-d301-48f3-81fc-093c8550570b  treatment   \n",
       "14f79f2c-cd59-4f28-bb92-0c9b0100479d f5539bb0-8edf-4135-b753-0daaa650d6dc c9bba49e-525d-4762-9daa-a687d4fd7cc3    control   \n",
       "ef1a48d7-e2f0-4820-b54c-4e8b0860ccc6 a73083f8-89c8-4d3a-b079-f8b00f57c71e 4348c9ec-6f7c-4301-a159-a771b4c5cbbc  treatment   \n",
       "9d155939-c4c1-4fad-9328-ddc853034ecb dd6affae-f76d-40dd-a31f-aaee70334e8d b94f0316-2f10-4f62-b2e7-58e095f612d8    control   \n",
       "\n",
       "                                                                                                               ts_interaction_first  \\\n",
       "id_guest                             id_host                              id_listing                                                  \n",
       "30abce0e-e105-41b0-b31a-0673efa0cd26 a8b671c7-4bdf-4896-b42f-2ba1b1a93adf 6e59bc7e-8084-4ff4-a1b2-21399a6b8829  2013-02-11 09:51:06   \n",
       "0de89a34-2978-4bbf-b60a-f6607affa804 f50d600e-b995-4313-aa7b-a5ac605bf5e0 5051a4f0-d301-48f3-81fc-093c8550570b  2013-03-08 05:36:44   \n",
       "14f79f2c-cd59-4f28-bb92-0c9b0100479d f5539bb0-8edf-4135-b753-0daaa650d6dc c9bba49e-525d-4762-9daa-a687d4fd7cc3  2013-03-10 21:23:13   \n",
       "ef1a48d7-e2f0-4820-b54c-4e8b0860ccc6 a73083f8-89c8-4d3a-b079-f8b00f57c71e 4348c9ec-6f7c-4301-a159-a771b4c5cbbc  2013-03-15 17:17:17   \n",
       "9d155939-c4c1-4fad-9328-ddc853034ecb dd6affae-f76d-40dd-a31f-aaee70334e8d b94f0316-2f10-4f62-b2e7-58e095f612d8  2013-03-19 16:24:31   \n",
       "\n",
       "                                                                                                                 ts_reply_at_first  \\\n",
       "id_guest                             id_host                              id_listing                                                 \n",
       "30abce0e-e105-41b0-b31a-0673efa0cd26 a8b671c7-4bdf-4896-b42f-2ba1b1a93adf 6e59bc7e-8084-4ff4-a1b2-21399a6b8829 2013-02-11 09:49:27   \n",
       "0de89a34-2978-4bbf-b60a-f6607affa804 f50d600e-b995-4313-aa7b-a5ac605bf5e0 5051a4f0-d301-48f3-81fc-093c8550570b 2013-03-08 05:36:33   \n",
       "14f79f2c-cd59-4f28-bb92-0c9b0100479d f5539bb0-8edf-4135-b753-0daaa650d6dc c9bba49e-525d-4762-9daa-a687d4fd7cc3 2013-03-10 21:22:57   \n",
       "ef1a48d7-e2f0-4820-b54c-4e8b0860ccc6 a73083f8-89c8-4d3a-b079-f8b00f57c71e 4348c9ec-6f7c-4301-a159-a771b4c5cbbc 2013-03-15 17:16:17   \n",
       "9d155939-c4c1-4fad-9328-ddc853034ecb dd6affae-f76d-40dd-a31f-aaee70334e8d b94f0316-2f10-4f62-b2e7-58e095f612d8 2013-03-19 16:22:51   \n",
       "\n",
       "                                                                                                               ts_accepted_at_first  \\\n",
       "id_guest                             id_host                              id_listing                                                  \n",
       "30abce0e-e105-41b0-b31a-0673efa0cd26 a8b671c7-4bdf-4896-b42f-2ba1b1a93adf 6e59bc7e-8084-4ff4-a1b2-21399a6b8829  2013-02-11 09:49:27   \n",
       "0de89a34-2978-4bbf-b60a-f6607affa804 f50d600e-b995-4313-aa7b-a5ac605bf5e0 5051a4f0-d301-48f3-81fc-093c8550570b  2013-03-08 05:36:33   \n",
       "14f79f2c-cd59-4f28-bb92-0c9b0100479d f5539bb0-8edf-4135-b753-0daaa650d6dc c9bba49e-525d-4762-9daa-a687d4fd7cc3  2013-03-11 02:31:25   \n",
       "ef1a48d7-e2f0-4820-b54c-4e8b0860ccc6 a73083f8-89c8-4d3a-b079-f8b00f57c71e 4348c9ec-6f7c-4301-a159-a771b4c5cbbc                  NaT   \n",
       "9d155939-c4c1-4fad-9328-ddc853034ecb dd6affae-f76d-40dd-a31f-aaee70334e8d b94f0316-2f10-4f62-b2e7-58e095f612d8                  NaT   \n",
       "\n",
       "                                                                                                                     ts_booking_at  \\\n",
       "id_guest                             id_host                              id_listing                                                 \n",
       "30abce0e-e105-41b0-b31a-0673efa0cd26 a8b671c7-4bdf-4896-b42f-2ba1b1a93adf 6e59bc7e-8084-4ff4-a1b2-21399a6b8829 2013-02-11 09:49:27   \n",
       "0de89a34-2978-4bbf-b60a-f6607affa804 f50d600e-b995-4313-aa7b-a5ac605bf5e0 5051a4f0-d301-48f3-81fc-093c8550570b 2013-03-08 05:36:33   \n",
       "14f79f2c-cd59-4f28-bb92-0c9b0100479d f5539bb0-8edf-4135-b753-0daaa650d6dc c9bba49e-525d-4762-9daa-a687d4fd7cc3 2013-03-11 02:31:25   \n",
       "ef1a48d7-e2f0-4820-b54c-4e8b0860ccc6 a73083f8-89c8-4d3a-b079-f8b00f57c71e 4348c9ec-6f7c-4301-a159-a771b4c5cbbc                 NaT   \n",
       "9d155939-c4c1-4fad-9328-ddc853034ecb dd6affae-f76d-40dd-a31f-aaee70334e8d b94f0316-2f10-4f62-b2e7-58e095f612d8                 NaT   \n",
       "\n",
       "                                                                                                               dim_contact_channel  \\\n",
       "id_guest                             id_host                              id_listing                                                 \n",
       "30abce0e-e105-41b0-b31a-0673efa0cd26 a8b671c7-4bdf-4896-b42f-2ba1b1a93adf 6e59bc7e-8084-4ff4-a1b2-21399a6b8829      instant_booked   \n",
       "0de89a34-2978-4bbf-b60a-f6607affa804 f50d600e-b995-4313-aa7b-a5ac605bf5e0 5051a4f0-d301-48f3-81fc-093c8550570b             book_it   \n",
       "14f79f2c-cd59-4f28-bb92-0c9b0100479d f5539bb0-8edf-4135-b753-0daaa650d6dc c9bba49e-525d-4762-9daa-a687d4fd7cc3          contact_me   \n",
       "ef1a48d7-e2f0-4820-b54c-4e8b0860ccc6 a73083f8-89c8-4d3a-b079-f8b00f57c71e 4348c9ec-6f7c-4301-a159-a771b4c5cbbc          contact_me   \n",
       "9d155939-c4c1-4fad-9328-ddc853034ecb dd6affae-f76d-40dd-a31f-aaee70334e8d b94f0316-2f10-4f62-b2e7-58e095f612d8          contact_me   \n",
       "\n",
       "                                                                                                                m_first_message_length  \\\n",
       "id_guest                             id_host                              id_listing                                                     \n",
       "30abce0e-e105-41b0-b31a-0673efa0cd26 a8b671c7-4bdf-4896-b42f-2ba1b1a93adf 6e59bc7e-8084-4ff4-a1b2-21399a6b8829                     391   \n",
       "0de89a34-2978-4bbf-b60a-f6607affa804 f50d600e-b995-4313-aa7b-a5ac605bf5e0 5051a4f0-d301-48f3-81fc-093c8550570b                     277   \n",
       "14f79f2c-cd59-4f28-bb92-0c9b0100479d f5539bb0-8edf-4135-b753-0daaa650d6dc c9bba49e-525d-4762-9daa-a687d4fd7cc3                     193   \n",
       "ef1a48d7-e2f0-4820-b54c-4e8b0860ccc6 a73083f8-89c8-4d3a-b079-f8b00f57c71e 4348c9ec-6f7c-4301-a159-a771b4c5cbbc                     274   \n",
       "9d155939-c4c1-4fad-9328-ddc853034ecb dd6affae-f76d-40dd-a31f-aaee70334e8d b94f0316-2f10-4f62-b2e7-58e095f612d8                       0   \n",
       "\n",
       "                                                                                                                ts_reply_at_first_lag  \\\n",
       "id_guest                             id_host                              id_listing                                                    \n",
       "30abce0e-e105-41b0-b31a-0673efa0cd26 a8b671c7-4bdf-4896-b42f-2ba1b1a93adf 6e59bc7e-8084-4ff4-a1b2-21399a6b8829      -1 days +23:58:21   \n",
       "0de89a34-2978-4bbf-b60a-f6607affa804 f50d600e-b995-4313-aa7b-a5ac605bf5e0 5051a4f0-d301-48f3-81fc-093c8550570b      -1 days +23:59:49   \n",
       "14f79f2c-cd59-4f28-bb92-0c9b0100479d f5539bb0-8edf-4135-b753-0daaa650d6dc c9bba49e-525d-4762-9daa-a687d4fd7cc3      -1 days +23:59:44   \n",
       "ef1a48d7-e2f0-4820-b54c-4e8b0860ccc6 a73083f8-89c8-4d3a-b079-f8b00f57c71e 4348c9ec-6f7c-4301-a159-a771b4c5cbbc      -1 days +23:59:00   \n",
       "9d155939-c4c1-4fad-9328-ddc853034ecb dd6affae-f76d-40dd-a31f-aaee70334e8d b94f0316-2f10-4f62-b2e7-58e095f612d8      -1 days +23:58:20   \n",
       "\n",
       "                                                                                                                ts_accepted_at_first_lag  \\\n",
       "id_guest                             id_host                              id_listing                                                       \n",
       "30abce0e-e105-41b0-b31a-0673efa0cd26 a8b671c7-4bdf-4896-b42f-2ba1b1a93adf 6e59bc7e-8084-4ff4-a1b2-21399a6b8829         -1 days +23:58:21   \n",
       "0de89a34-2978-4bbf-b60a-f6607affa804 f50d600e-b995-4313-aa7b-a5ac605bf5e0 5051a4f0-d301-48f3-81fc-093c8550570b         -1 days +23:59:49   \n",
       "14f79f2c-cd59-4f28-bb92-0c9b0100479d f5539bb0-8edf-4135-b753-0daaa650d6dc c9bba49e-525d-4762-9daa-a687d4fd7cc3                  05:08:12   \n",
       "ef1a48d7-e2f0-4820-b54c-4e8b0860ccc6 a73083f8-89c8-4d3a-b079-f8b00f57c71e 4348c9ec-6f7c-4301-a159-a771b4c5cbbc                       NaT   \n",
       "9d155939-c4c1-4fad-9328-ddc853034ecb dd6affae-f76d-40dd-a31f-aaee70334e8d b94f0316-2f10-4f62-b2e7-58e095f612d8                       NaT   \n",
       "\n",
       "                                                                                                                ts_booking_at_lag  \n",
       "id_guest                             id_host                              id_listing                                               \n",
       "30abce0e-e105-41b0-b31a-0673efa0cd26 a8b671c7-4bdf-4896-b42f-2ba1b1a93adf 6e59bc7e-8084-4ff4-a1b2-21399a6b8829  -1 days +23:58:21  \n",
       "0de89a34-2978-4bbf-b60a-f6607affa804 f50d600e-b995-4313-aa7b-a5ac605bf5e0 5051a4f0-d301-48f3-81fc-093c8550570b  -1 days +23:59:49  \n",
       "14f79f2c-cd59-4f28-bb92-0c9b0100479d f5539bb0-8edf-4135-b753-0daaa650d6dc c9bba49e-525d-4762-9daa-a687d4fd7cc3           05:08:12  \n",
       "ef1a48d7-e2f0-4820-b54c-4e8b0860ccc6 a73083f8-89c8-4d3a-b079-f8b00f57c71e 4348c9ec-6f7c-4301-a159-a771b4c5cbbc                NaT  \n",
       "9d155939-c4c1-4fad-9328-ddc853034ecb dd6affae-f76d-40dd-a31f-aaee70334e8d b94f0316-2f10-4f62-b2e7-58e095f612d8                NaT  "
      ]
     },
     "execution_count": 20,
     "metadata": {},
     "output_type": "execute_result"
    }
   ],
   "source": [
    "# Lets take a look at a few examples\n",
    "tv1,tv2 = 'ts_interaction_first', 'ts_reply_at_first'\n",
    "data.loc[np.logical_and(pd.notnull(data[tv2]),data[tv1]>data[tv2])].head()"
   ]
  },
  {
   "cell_type": "markdown",
   "metadata": {},
   "source": [
    "These negative lags seem to generally be only a matter of a minute or two, and may just be a small bug, especially for 'instant_booked'"
   ]
  },
  {
   "cell_type": "code",
   "execution_count": 21,
   "metadata": {
    "collapsed": false
   },
   "outputs": [
    {
     "name": "stdout",
     "output_type": "stream",
     "text": [
      "Negative lags exceeding 2 minutes happened 0 times\n",
      "\n",
      "Excluding instant booked:\n",
      "ts_reply_at_first had 112 lags less than 0 and 254 between 0 and 2\n",
      "ts_accepted_at_first had 67 lags less than 0 and 97 between 0 and 2\n",
      "ts_booking_at had 45 lags less than 0 and 48 between 0 and 2\n"
     ]
    }
   ],
   "source": [
    "# How many negative lags are more than two minutes?\n",
    "print 'Negative lags exceeding 2 minutes happened %d times' % sum(data['ts_reply_at_first_lag'] < np.timedelta64(-2, 'm'))\n",
    "\n",
    "# Looking at the not 'instant_booked', which are of more interest anyway, how often do we see a small negative lags\n",
    "# compared to a small positive lag?\n",
    "not_instant = data['dim_contact_channel']!='instant_booked'\n",
    "print '\\nExcluding instant booked:'\n",
    "for j in range(1,len(timevars)):\n",
    "    lag = data[timevars[j]+'_lag']\n",
    "    neg_lags = sum(np.logical_and(not_instant,lag<0))\n",
    "    pos_lags = sum(np.logical_and(not_instant,np.logical_and(lag>=np.timedelta64(0, 'm'),lag<np.timedelta64(2, 'm'))))\n",
    "    print '%s had %d lags less than 0 and %d between 0 and 2' % (timevars[j],neg_lags,pos_lags)\n",
    "    "
   ]
  },
  {
   "cell_type": "markdown",
   "metadata": {},
   "source": [
    "My guess is that there is some kind of bug in the determination of first interaction time, but it seems to be only fudging the numbers by a minute or two. Since it looks like there are a lot of very quick response times (maybe some sort of auto reply by the host), I'm going with that the negative lags really represent small positive lags which have a small error on them. Thus, I'm leaving them in the data set."
   ]
  },
  {
   "cell_type": "markdown",
   "metadata": {},
   "source": [
    "##### Make sure the treatment group really did write messages longer than 140 characters"
   ]
  },
  {
   "cell_type": "code",
   "execution_count": 22,
   "metadata": {
    "collapsed": false
   },
   "outputs": [
    {
     "name": "stdout",
     "output_type": "stream",
     "text": [
      "there were 730 in the treatment group who didn't write 140 charchters\n"
     ]
    }
   ],
   "source": [
    "# encode missing lengths as 0\n",
    "data.m_first_message_length.loc[pd.isnull(data.m_first_message_length)]=0\n",
    "\n",
    "less_than_req = np.logical_and(data.ab=='treatment',data.m_first_message_length<140)\n",
    "print \"there were %d in the treatment group who didn't write 140 charchters\" % sum(less_than_req)"
   ]
  },
  {
   "cell_type": "markdown",
   "metadata": {},
   "source": [
    "Well, we can't really have that. I'm going to exclude those who got the treatment but didn't write 140 charachters. "
   ]
  },
  {
   "cell_type": "code",
   "execution_count": 23,
   "metadata": {
    "collapsed": false
   },
   "outputs": [],
   "source": [
    "data = data[np.logical_not(less_than_req)]"
   ]
  },
  {
   "cell_type": "markdown",
   "metadata": {},
   "source": [
    "#####Create some additional variables"
   ]
  },
  {
   "cell_type": "code",
   "execution_count": 24,
   "metadata": {
    "collapsed": false
   },
   "outputs": [],
   "source": [
    "# Did the host ever reply?\n",
    "data['replied'] = pd.notnull(data['ts_reply_at_first'])\n",
    "# Did the host accept?\n",
    "data['accepted'] = pd.notnull(data['ts_accepted_at_first'])\n",
    "# Did the guest book?\n",
    "data['booked'] = pd.notnull(data['ts_booking_at'])\n",
    "# What hour of the day did the guest initiate contact?\n",
    "data['interaction_hour'] = data.ts_interaction_first.dt.hour\n",
    "# Was contact on a weekend?\n",
    "data['weekend_interaction'] = data.ts_interaction_first.dt.dayofweek<5\n",
    "# What month of 2013 did the contact occur in?\n",
    "data['month_interaction'] = data.ts_interaction_first.dt.month.astype('category')\n",
    "# Was the message longer than 140 charchters?\n",
    "data['long_message'] = data.m_first_message_length>=140"
   ]
  },
  {
   "cell_type": "markdown",
   "metadata": {},
   "source": [
    "##### Subset the data to exclude instant booked\n",
    "instant_booked books without the host seeing the message, so there is no point in looking into them for this experiment"
   ]
  },
  {
   "cell_type": "code",
   "execution_count": 25,
   "metadata": {
    "collapsed": false
   },
   "outputs": [
    {
     "name": "stdout",
     "output_type": "stream",
     "text": [
      "We are left with 9233 observations\n"
     ]
    }
   ],
   "source": [
    "full_data, data = data.copy(), data.loc[not_instant].copy() # this is a tad lazy\n",
    "n = data.shape[0]\n",
    "print 'We are left with %d observations' % n"
   ]
  },
  {
   "cell_type": "markdown",
   "metadata": {},
   "source": [
    "### Look at some univariate statistics\n",
    "##### First, compare the treatment to control groups. Did the randominization seem to work correctly?"
   ]
  },
  {
   "cell_type": "code",
   "execution_count": 26,
   "metadata": {
    "collapsed": false
   },
   "outputs": [
    {
     "data": {
      "text/html": [
       "<div>\n",
       "<table border=\"1\" class=\"dataframe\">\n",
       "  <thead>\n",
       "    <tr style=\"text-align: right;\">\n",
       "      <th>dim_contact_channel</th>\n",
       "      <th>book_it</th>\n",
       "      <th>contact_me</th>\n",
       "    </tr>\n",
       "    <tr>\n",
       "      <th>ab</th>\n",
       "      <th></th>\n",
       "      <th></th>\n",
       "    </tr>\n",
       "  </thead>\n",
       "  <tbody>\n",
       "    <tr>\n",
       "      <th>control</th>\n",
       "      <td>0.182785</td>\n",
       "      <td>0.817215</td>\n",
       "    </tr>\n",
       "    <tr>\n",
       "      <th>treatment</th>\n",
       "      <td>0.174394</td>\n",
       "      <td>0.825606</td>\n",
       "    </tr>\n",
       "  </tbody>\n",
       "</table>\n",
       "</div>"
      ],
      "text/plain": [
       "dim_contact_channel   book_it  contact_me\n",
       "ab                                       \n",
       "control              0.182785    0.817215\n",
       "treatment            0.174394    0.825606"
      ]
     },
     "execution_count": 26,
     "metadata": {},
     "output_type": "execute_result"
    }
   ],
   "source": [
    "pd.crosstab(data['ab'],data['dim_contact_channel']).apply(lambda r: r/r.sum(), axis=1)"
   ]
  },
  {
   "cell_type": "code",
   "execution_count": 27,
   "metadata": {
    "collapsed": false
   },
   "outputs": [
    {
     "data": {
      "text/html": [
       "<div>\n",
       "<table border=\"1\" class=\"dataframe\">\n",
       "  <thead>\n",
       "    <tr style=\"text-align: right;\">\n",
       "      <th>interaction_hour</th>\n",
       "      <th>0</th>\n",
       "      <th>1</th>\n",
       "      <th>2</th>\n",
       "      <th>3</th>\n",
       "      <th>4</th>\n",
       "      <th>5</th>\n",
       "      <th>6</th>\n",
       "      <th>7</th>\n",
       "      <th>8</th>\n",
       "      <th>9</th>\n",
       "      <th>...</th>\n",
       "      <th>14</th>\n",
       "      <th>15</th>\n",
       "      <th>16</th>\n",
       "      <th>17</th>\n",
       "      <th>18</th>\n",
       "      <th>19</th>\n",
       "      <th>20</th>\n",
       "      <th>21</th>\n",
       "      <th>22</th>\n",
       "      <th>23</th>\n",
       "    </tr>\n",
       "    <tr>\n",
       "      <th>ab</th>\n",
       "      <th></th>\n",
       "      <th></th>\n",
       "      <th></th>\n",
       "      <th></th>\n",
       "      <th></th>\n",
       "      <th></th>\n",
       "      <th></th>\n",
       "      <th></th>\n",
       "      <th></th>\n",
       "      <th></th>\n",
       "      <th></th>\n",
       "      <th></th>\n",
       "      <th></th>\n",
       "      <th></th>\n",
       "      <th></th>\n",
       "      <th></th>\n",
       "      <th></th>\n",
       "      <th></th>\n",
       "      <th></th>\n",
       "      <th></th>\n",
       "      <th></th>\n",
       "    </tr>\n",
       "  </thead>\n",
       "  <tbody>\n",
       "    <tr>\n",
       "      <th>control</th>\n",
       "      <td>0.048154</td>\n",
       "      <td>0.049157</td>\n",
       "      <td>0.043539</td>\n",
       "      <td>0.042737</td>\n",
       "      <td>0.043740</td>\n",
       "      <td>0.042937</td>\n",
       "      <td>0.033507</td>\n",
       "      <td>0.027488</td>\n",
       "      <td>0.019462</td>\n",
       "      <td>0.021268</td>\n",
       "      <td>...</td>\n",
       "      <td>0.033507</td>\n",
       "      <td>0.044743</td>\n",
       "      <td>0.050361</td>\n",
       "      <td>0.058989</td>\n",
       "      <td>0.062801</td>\n",
       "      <td>0.060193</td>\n",
       "      <td>0.060995</td>\n",
       "      <td>0.060393</td>\n",
       "      <td>0.054374</td>\n",
       "      <td>0.050161</td>\n",
       "    </tr>\n",
       "    <tr>\n",
       "      <th>treatment</th>\n",
       "      <td>0.045893</td>\n",
       "      <td>0.043069</td>\n",
       "      <td>0.047070</td>\n",
       "      <td>0.044481</td>\n",
       "      <td>0.041657</td>\n",
       "      <td>0.039068</td>\n",
       "      <td>0.032243</td>\n",
       "      <td>0.028242</td>\n",
       "      <td>0.023535</td>\n",
       "      <td>0.022123</td>\n",
       "      <td>...</td>\n",
       "      <td>0.037185</td>\n",
       "      <td>0.045893</td>\n",
       "      <td>0.048482</td>\n",
       "      <td>0.054130</td>\n",
       "      <td>0.060720</td>\n",
       "      <td>0.060014</td>\n",
       "      <td>0.061662</td>\n",
       "      <td>0.055072</td>\n",
       "      <td>0.063074</td>\n",
       "      <td>0.051777</td>\n",
       "    </tr>\n",
       "  </tbody>\n",
       "</table>\n",
       "<p>2 rows × 24 columns</p>\n",
       "</div>"
      ],
      "text/plain": [
       "interaction_hour        0         1         2         3         4         5   \\\n",
       "ab                                                                             \n",
       "control           0.048154  0.049157  0.043539  0.042737  0.043740  0.042937   \n",
       "treatment         0.045893  0.043069  0.047070  0.044481  0.041657  0.039068   \n",
       "\n",
       "interaction_hour        6         7         8         9     ...           14  \\\n",
       "ab                                                          ...                \n",
       "control           0.033507  0.027488  0.019462  0.021268    ...     0.033507   \n",
       "treatment         0.032243  0.028242  0.023535  0.022123    ...     0.037185   \n",
       "\n",
       "interaction_hour        15        16        17        18        19        20  \\\n",
       "ab                                                                             \n",
       "control           0.044743  0.050361  0.058989  0.062801  0.060193  0.060995   \n",
       "treatment         0.045893  0.048482  0.054130  0.060720  0.060014  0.061662   \n",
       "\n",
       "interaction_hour        21        22        23  \n",
       "ab                                              \n",
       "control           0.060393  0.054374  0.050161  \n",
       "treatment         0.055072  0.063074  0.051777  \n",
       "\n",
       "[2 rows x 24 columns]"
      ]
     },
     "execution_count": 27,
     "metadata": {},
     "output_type": "execute_result"
    }
   ],
   "source": [
    "pd.crosstab(data['ab'],data['interaction_hour']).apply(lambda r: r/r.sum(), axis=1)"
   ]
  },
  {
   "cell_type": "code",
   "execution_count": 28,
   "metadata": {
    "collapsed": false
   },
   "outputs": [
    {
     "data": {
      "text/html": [
       "<div>\n",
       "<table border=\"1\" class=\"dataframe\">\n",
       "  <thead>\n",
       "    <tr style=\"text-align: right;\">\n",
       "      <th>weekend_interaction</th>\n",
       "      <th>False</th>\n",
       "      <th>True</th>\n",
       "    </tr>\n",
       "    <tr>\n",
       "      <th>ab</th>\n",
       "      <th></th>\n",
       "      <th></th>\n",
       "    </tr>\n",
       "  </thead>\n",
       "  <tbody>\n",
       "    <tr>\n",
       "      <th>control</th>\n",
       "      <td>0.238965</td>\n",
       "      <td>0.761035</td>\n",
       "    </tr>\n",
       "    <tr>\n",
       "      <th>treatment</th>\n",
       "      <td>0.239821</td>\n",
       "      <td>0.760179</td>\n",
       "    </tr>\n",
       "  </tbody>\n",
       "</table>\n",
       "</div>"
      ],
      "text/plain": [
       "weekend_interaction     False     True \n",
       "ab                                     \n",
       "control              0.238965  0.761035\n",
       "treatment            0.239821  0.760179"
      ]
     },
     "execution_count": 28,
     "metadata": {},
     "output_type": "execute_result"
    }
   ],
   "source": [
    "pd.crosstab(data['ab'],data['weekend_interaction']).apply(lambda r: r/r.sum(), axis=1)"
   ]
  },
  {
   "cell_type": "code",
   "execution_count": 29,
   "metadata": {
    "collapsed": false
   },
   "outputs": [
    {
     "data": {
      "text/html": [
       "<div>\n",
       "<table border=\"1\" class=\"dataframe\">\n",
       "  <thead>\n",
       "    <tr style=\"text-align: right;\">\n",
       "      <th>month_interaction</th>\n",
       "      <th>1</th>\n",
       "      <th>2</th>\n",
       "      <th>3</th>\n",
       "      <th>4</th>\n",
       "      <th>5</th>\n",
       "      <th>6</th>\n",
       "      <th>7</th>\n",
       "      <th>8</th>\n",
       "      <th>9</th>\n",
       "      <th>10</th>\n",
       "      <th>11</th>\n",
       "      <th>12</th>\n",
       "    </tr>\n",
       "    <tr>\n",
       "      <th>ab</th>\n",
       "      <th></th>\n",
       "      <th></th>\n",
       "      <th></th>\n",
       "      <th></th>\n",
       "      <th></th>\n",
       "      <th></th>\n",
       "      <th></th>\n",
       "      <th></th>\n",
       "      <th></th>\n",
       "      <th></th>\n",
       "      <th></th>\n",
       "      <th></th>\n",
       "    </tr>\n",
       "  </thead>\n",
       "  <tbody>\n",
       "    <tr>\n",
       "      <th>control</th>\n",
       "      <td>0.062400</td>\n",
       "      <td>0.062801</td>\n",
       "      <td>0.084872</td>\n",
       "      <td>0.105738</td>\n",
       "      <td>0.107143</td>\n",
       "      <td>0.097311</td>\n",
       "      <td>0.108146</td>\n",
       "      <td>0.104334</td>\n",
       "      <td>0.083066</td>\n",
       "      <td>0.070225</td>\n",
       "      <td>0.057584</td>\n",
       "      <td>0.056380</td>\n",
       "    </tr>\n",
       "    <tr>\n",
       "      <th>treatment</th>\n",
       "      <td>0.058602</td>\n",
       "      <td>0.068487</td>\n",
       "      <td>0.094610</td>\n",
       "      <td>0.100024</td>\n",
       "      <td>0.114380</td>\n",
       "      <td>0.093434</td>\n",
       "      <td>0.104495</td>\n",
       "      <td>0.098141</td>\n",
       "      <td>0.089668</td>\n",
       "      <td>0.064015</td>\n",
       "      <td>0.055778</td>\n",
       "      <td>0.058367</td>\n",
       "    </tr>\n",
       "  </tbody>\n",
       "</table>\n",
       "</div>"
      ],
      "text/plain": [
       "month_interaction        1         2         3         4         5         6   \\\n",
       "ab                                                                              \n",
       "control            0.062400  0.062801  0.084872  0.105738  0.107143  0.097311   \n",
       "treatment          0.058602  0.068487  0.094610  0.100024  0.114380  0.093434   \n",
       "\n",
       "month_interaction        7         8         9         10        11        12  \n",
       "ab                                                                             \n",
       "control            0.108146  0.104334  0.083066  0.070225  0.057584  0.056380  \n",
       "treatment          0.104495  0.098141  0.089668  0.064015  0.055778  0.058367  "
      ]
     },
     "execution_count": 29,
     "metadata": {},
     "output_type": "execute_result"
    }
   ],
   "source": [
    "pd.crosstab(data['ab'],data['month_interaction']).apply(lambda r: r/r.sum(), axis=1)"
   ]
  },
  {
   "cell_type": "markdown",
   "metadata": {},
   "source": [
    "These all pass the sniff test; both groups seemed to be contacting hosts at similar times. If there are meaningful differences in the group up to the point they send the request, it has to be burried in the joint distribution."
   ]
  },
  {
   "cell_type": "markdown",
   "metadata": {},
   "source": [
    "##### See initial differences in booking and respnse time between the groups"
   ]
  },
  {
   "cell_type": "code",
   "execution_count": 30,
   "metadata": {
    "collapsed": false
   },
   "outputs": [
    {
     "data": {
      "text/html": [
       "<div>\n",
       "<table border=\"1\" class=\"dataframe\">\n",
       "  <thead>\n",
       "    <tr style=\"text-align: right;\">\n",
       "      <th>replied</th>\n",
       "      <th>False</th>\n",
       "      <th>True</th>\n",
       "    </tr>\n",
       "    <tr>\n",
       "      <th>ab</th>\n",
       "      <th></th>\n",
       "      <th></th>\n",
       "    </tr>\n",
       "  </thead>\n",
       "  <tbody>\n",
       "    <tr>\n",
       "      <th>control</th>\n",
       "      <td>0.147071</td>\n",
       "      <td>0.852929</td>\n",
       "    </tr>\n",
       "    <tr>\n",
       "      <th>treatment</th>\n",
       "      <td>0.138856</td>\n",
       "      <td>0.861144</td>\n",
       "    </tr>\n",
       "  </tbody>\n",
       "</table>\n",
       "</div>"
      ],
      "text/plain": [
       "replied       False     True \n",
       "ab                           \n",
       "control    0.147071  0.852929\n",
       "treatment  0.138856  0.861144"
      ]
     },
     "execution_count": 30,
     "metadata": {},
     "output_type": "execute_result"
    }
   ],
   "source": [
    "pd.crosstab(data['ab'],data['replied']).apply(lambda r: r/r.sum(), axis=1)"
   ]
  },
  {
   "cell_type": "code",
   "execution_count": 31,
   "metadata": {
    "collapsed": false
   },
   "outputs": [
    {
     "data": {
      "text/html": [
       "<div>\n",
       "<table border=\"1\" class=\"dataframe\">\n",
       "  <thead>\n",
       "    <tr style=\"text-align: right;\">\n",
       "      <th>booked</th>\n",
       "      <th>False</th>\n",
       "      <th>True</th>\n",
       "    </tr>\n",
       "    <tr>\n",
       "      <th>ab</th>\n",
       "      <th></th>\n",
       "      <th></th>\n",
       "    </tr>\n",
       "  </thead>\n",
       "  <tbody>\n",
       "    <tr>\n",
       "      <th>control</th>\n",
       "      <td>0.787721</td>\n",
       "      <td>0.212279</td>\n",
       "    </tr>\n",
       "    <tr>\n",
       "      <th>treatment</th>\n",
       "      <td>0.789833</td>\n",
       "      <td>0.210167</td>\n",
       "    </tr>\n",
       "  </tbody>\n",
       "</table>\n",
       "</div>"
      ],
      "text/plain": [
       "booked        False     True \n",
       "ab                           \n",
       "control    0.787721  0.212279\n",
       "treatment  0.789833  0.210167"
      ]
     },
     "execution_count": 31,
     "metadata": {},
     "output_type": "execute_result"
    }
   ],
   "source": [
    "pd.crosstab(data['ab'],data['booked']).apply(lambda r: r/r.sum(), axis=1)"
   ]
  },
  {
   "cell_type": "markdown",
   "metadata": {},
   "source": [
    "The control group got responses a little more often, but this just looks like noise to me. Maybe the response or acceptances were quicker though. Let's take a look at the cumulative response and acceptance rate over time."
   ]
  },
  {
   "cell_type": "code",
   "execution_count": 32,
   "metadata": {
    "collapsed": false
   },
   "outputs": [
    {
     "data": {
      "image/png": "[encoded data removed]",
      "text/plain": [
       "<matplotlib.figure.Figure at 0x107d5bc90>"
      ]
     },
     "metadata": {},
     "output_type": "display_data"
    }
   ],
   "source": [
    "# Initalize the plots\n",
    "f,subplts = plt.subplots(2,1)\n",
    "f.set_size_inches(16,10)\n",
    "hours = 72\n",
    "\n",
    "# Initalize some arrays for plot\n",
    "lincol = ['r','b']  # the line colors I'll use\n",
    "linsty = ['-','--'] # line styles I'll use\n",
    "loc    = ['lower right','upper right'] # where to put the legend\n",
    "labels = np.array([['Control, Book It','Control, Contact Me'],['Treatment, Book It','Treatment, Contact Me']])\n",
    "\n",
    "# Loop to add plots\n",
    "for i in [0,1]:\n",
    "    if i==0:\n",
    "        subplts[0].set_title('Percent of Inquiries Which Have Been Responded to After a Given Period')\n",
    "        subplts[0].set_ylabel('Portion Responded')\n",
    "        var = data.ts_reply_at_first_lag\n",
    "    else:\n",
    "        subplts[1].set_title('Percent of Inquiries Resulting in Bookings After a Given Period')\n",
    "        subplts[1].set_ylabel('Portion Booked')\n",
    "        var = data.ts_booking_at_lag\n",
    "    subplts[i].set_xlabel('Hours Since Inqury')\n",
    "    subplts[i].set_ylim(0,1)\n",
    "    subplts[i].set_xlim(0,60*60*hours)\n",
    "    subplts[i].set_xticks(np.arange(0,hours+1,6)*60*60)\n",
    "    subplts[i].set_xticklabels(np.arange(0,hours+1,6))\n",
    "    # Loop over treatments\n",
    "    for t in [0,1]:\n",
    "        trt = ['control','treatment'][t]\n",
    "        # Loop over booking criteria\n",
    "        for b in [0,1]:\n",
    "            book = ['book_it','contact_me'][b]\n",
    "            subset = np.logical_and(data.ab==trt,data.dim_contact_channel==book) # those in the right treatment/booking group\n",
    "            cond   = np.logical_and(pd.notnull(var),subset)                      # booked/replied in the right treatment/booking group\n",
    "            count  = sum(cond)\n",
    "            y      = np.linspace(0,count/sum(subset),count)\n",
    "            subplts[i].plot(var.loc[cond].sort(inplace=False).astype('timedelta64[s]'),y,lincol[t]+linsty[b],label = labels[t,b])\n",
    "    subplts[i].legend(loc=loc[i])\n",
    "\n",
    "plt.show()"
   ]
  },
  {
   "cell_type": "markdown",
   "metadata": {},
   "source": [
    "If there is any meaningful effect, it looks like \"book it\" requests are more successful in the control group. At first glance though, the difference between treatment and control is small at best."
   ]
  },
  {
   "cell_type": "markdown",
   "metadata": {},
   "source": [
    "### Fit a few regressions\n",
    "There are a bunch of sexier models one might fit here, but this looks like a pretty cut and dry case, so I'm just going to fit a few old fashioned GLMs. This already is kind of overkill with this dataset."
   ]
  },
  {
   "cell_type": "markdown",
   "metadata": {},
   "source": [
    "##### Logits predicting reply or booking"
   ]
  },
  {
   "cell_type": "markdown",
   "metadata": {},
   "source": [
    "I throw a bunch of polynomial terms to deal with the time of day the request was made and time of the year the request was made. For both of these, going to five degrees is likely gratuitous, but I'm not that interested in those effect and have plenty of data to spare a few degrees of freedom on. "
   ]
  },
  {
   "cell_type": "code",
   "execution_count": 33,
   "metadata": {
    "collapsed": false
   },
   "outputs": [],
   "source": [
    "# Orthogoanl Polynomial for the minute of day. \n",
    "timeofday_poly, hour_norm, hour_alpha = \\\n",
    "    ortho_poly_fit(data.ts_interaction_first.dt.hour*60 + data.ts_interaction_first.dt.minute, degree=5)\n",
    "\n",
    "# Polynomial for day of year contact was made\n",
    "dayofyear_poly, day_norm, day_alpha = ortho_poly_fit(data.ts_interaction_first.dt.dayofyear, degree=5)"
   ]
  },
  {
   "cell_type": "code",
   "execution_count": 34,
   "metadata": {
    "collapsed": false
   },
   "outputs": [
    {
     "data": {
      "text/html": [
       "<table class=\"simpletable\">\n",
       "<caption>Generalized Linear Model Regression Results</caption>\n",
       "<tr>\n",
       "  <th>Dep. Variable:</th>  <td>['replied[False]', 'replied[True]']</td> <th>  No. Observations:  </th>  <td>  9233</td> \n",
       "</tr>\n",
       "<tr>\n",
       "  <th>Model:</th>                          <td>GLM</td>                 <th>  Df Residuals:      </th>  <td>  9218</td> \n",
       "</tr>\n",
       "<tr>\n",
       "  <th>Model Family:</th>                <td>Binomial</td>               <th>  Df Model:          </th>  <td>    14</td> \n",
       "</tr>\n",
       "<tr>\n",
       "  <th>Link Function:</th>                 <td>logit</td>                <th>  Scale:             </th>    <td>1.0</td>  \n",
       "</tr>\n",
       "<tr>\n",
       "  <th>Method:</th>                        <td>IRLS</td>                 <th>  Log-Likelihood:    </th> <td> -3730.2</td>\n",
       "</tr>\n",
       "<tr>\n",
       "  <th>Date:</th>                    <td>Wed, 01 Jul 2015</td>           <th>  Deviance:          </th> <td>  7460.4</td>\n",
       "</tr>\n",
       "<tr>\n",
       "  <th>Time:</th>                        <td>09:07:30</td>               <th>  Pearson chi2:      </th> <td>9.21e+03</td>\n",
       "</tr>\n",
       "<tr>\n",
       "  <th>No. Iterations:</th>                  <td>7</td>                  <th>                     </th>     <td> </td>   \n",
       "</tr>\n",
       "</table>\n",
       "<table class=\"simpletable\">\n",
       "<tr>\n",
       "                          <td></td>                             <th>coef</th>     <th>std err</th>      <th>z</th>      <th>P>|z|</th> <th>[95.0% Conf. Int.]</th> \n",
       "</tr>\n",
       "<tr>\n",
       "  <th>Intercept</th>                                         <td>   -2.2673</td> <td>    0.129</td> <td>  -17.550</td> <td> 0.000</td> <td>   -2.520    -2.014</td>\n",
       "</tr>\n",
       "<tr>\n",
       "  <th>ab[T.treatment]</th>                                   <td>    0.0931</td> <td>    0.175</td> <td>    0.531</td> <td> 0.596</td> <td>   -0.251     0.437</td>\n",
       "</tr>\n",
       "<tr>\n",
       "  <th>dim_contact_channel[T.contact_me]</th>                 <td>    0.7160</td> <td>    0.127</td> <td>    5.622</td> <td> 0.000</td> <td>    0.466     0.966</td>\n",
       "</tr>\n",
       "<tr>\n",
       "  <th>weekend_interaction[T.True]</th>                       <td>   -0.1634</td> <td>    0.068</td> <td>   -2.389</td> <td> 0.017</td> <td>   -0.298    -0.029</td>\n",
       "</tr>\n",
       "<tr>\n",
       "  <th>ab[T.treatment]:dim_contact_channel[T.contact_me]</th> <td>   -0.1867</td> <td>    0.187</td> <td>   -1.000</td> <td> 0.317</td> <td>   -0.553     0.179</td>\n",
       "</tr>\n",
       "<tr>\n",
       "  <th>timeofday_poly[0]</th>                                 <td>   -0.0236</td> <td>    0.001</td> <td>  -17.550</td> <td> 0.000</td> <td>   -0.026    -0.021</td>\n",
       "</tr>\n",
       "<tr>\n",
       "  <th>timeofday_poly[1]</th>                                 <td>   -5.5307</td> <td>    2.838</td> <td>   -1.949</td> <td> 0.051</td> <td>  -11.094     0.033</td>\n",
       "</tr>\n",
       "<tr>\n",
       "  <th>timeofday_poly[2]</th>                                 <td>    4.9215</td> <td>    2.898</td> <td>    1.699</td> <td> 0.089</td> <td>   -0.758    10.601</td>\n",
       "</tr>\n",
       "<tr>\n",
       "  <th>timeofday_poly[3]</th>                                 <td>    1.1730</td> <td>    2.876</td> <td>    0.408</td> <td> 0.683</td> <td>   -4.464     6.810</td>\n",
       "</tr>\n",
       "<tr>\n",
       "  <th>timeofday_poly[4]</th>                                 <td>   -4.8016</td> <td>    2.884</td> <td>   -1.665</td> <td> 0.096</td> <td>  -10.454     0.851</td>\n",
       "</tr>\n",
       "<tr>\n",
       "  <th>timeofday_poly[5]</th>                                 <td>    0.9561</td> <td>    2.868</td> <td>    0.333</td> <td> 0.739</td> <td>   -4.666     6.578</td>\n",
       "</tr>\n",
       "<tr>\n",
       "  <th>dayofyear_poly[0]</th>                                 <td>   -0.0236</td> <td>    0.001</td> <td>  -17.550</td> <td> 0.000</td> <td>   -0.026    -0.021</td>\n",
       "</tr>\n",
       "<tr>\n",
       "  <th>dayofyear_poly[1]</th>                                 <td>   -6.2970</td> <td>    3.140</td> <td>   -2.006</td> <td> 0.045</td> <td>  -12.451    -0.143</td>\n",
       "</tr>\n",
       "<tr>\n",
       "  <th>dayofyear_poly[2]</th>                                 <td>  -18.1659</td> <td>    3.043</td> <td>   -5.969</td> <td> 0.000</td> <td>  -24.131   -12.201</td>\n",
       "</tr>\n",
       "<tr>\n",
       "  <th>dayofyear_poly[3]</th>                                 <td>    7.0050</td> <td>    3.022</td> <td>    2.318</td> <td> 0.020</td> <td>    1.081    12.928</td>\n",
       "</tr>\n",
       "<tr>\n",
       "  <th>dayofyear_poly[4]</th>                                 <td>    7.5630</td> <td>    3.014</td> <td>    2.509</td> <td> 0.012</td> <td>    1.656    13.470</td>\n",
       "</tr>\n",
       "<tr>\n",
       "  <th>dayofyear_poly[5]</th>                                 <td>    1.3697</td> <td>    3.024</td> <td>    0.453</td> <td> 0.651</td> <td>   -4.556     7.296</td>\n",
       "</tr>\n",
       "</table>"
      ],
      "text/plain": [
       "<class 'statsmodels.iolib.summary.Summary'>\n",
       "\"\"\"\n",
       "                          Generalized Linear Model Regression Results                          \n",
       "===============================================================================================\n",
       "Dep. Variable:     ['replied[False]', 'replied[True]']   No. Observations:                 9233\n",
       "Model:                                             GLM   Df Residuals:                     9218\n",
       "Model Family:                                 Binomial   Df Model:                           14\n",
       "Link Function:                                   logit   Scale:                             1.0\n",
       "Method:                                           IRLS   Log-Likelihood:                -3730.2\n",
       "Date:                                 Wed, 01 Jul 2015   Deviance:                       7460.4\n",
       "Time:                                         09:07:30   Pearson chi2:                 9.21e+03\n",
       "No. Iterations:                                      7                                         \n",
       "=====================================================================================================================\n",
       "                                                        coef    std err          z      P>|z|      [95.0% Conf. Int.]\n",
       "---------------------------------------------------------------------------------------------------------------------\n",
       "Intercept                                            -2.2673      0.129    -17.550      0.000        -2.520    -2.014\n",
       "ab[T.treatment]                                       0.0931      0.175      0.531      0.596        -0.251     0.437\n",
       "dim_contact_channel[T.contact_me]                     0.7160      0.127      5.622      0.000         0.466     0.966\n",
       "weekend_interaction[T.True]                          -0.1634      0.068     -2.389      0.017        -0.298    -0.029\n",
       "ab[T.treatment]:dim_contact_channel[T.contact_me]    -0.1867      0.187     -1.000      0.317        -0.553     0.179\n",
       "timeofday_poly[0]                                    -0.0236      0.001    -17.550      0.000        -0.026    -0.021\n",
       "timeofday_poly[1]                                    -5.5307      2.838     -1.949      0.051       -11.094     0.033\n",
       "timeofday_poly[2]                                     4.9215      2.898      1.699      0.089        -0.758    10.601\n",
       "timeofday_poly[3]                                     1.1730      2.876      0.408      0.683        -4.464     6.810\n",
       "timeofday_poly[4]                                    -4.8016      2.884     -1.665      0.096       -10.454     0.851\n",
       "timeofday_poly[5]                                     0.9561      2.868      0.333      0.739        -4.666     6.578\n",
       "dayofyear_poly[0]                                    -0.0236      0.001    -17.550      0.000        -0.026    -0.021\n",
       "dayofyear_poly[1]                                    -6.2970      3.140     -2.006      0.045       -12.451    -0.143\n",
       "dayofyear_poly[2]                                   -18.1659      3.043     -5.969      0.000       -24.131   -12.201\n",
       "dayofyear_poly[3]                                     7.0050      3.022      2.318      0.020         1.081    12.928\n",
       "dayofyear_poly[4]                                     7.5630      3.014      2.509      0.012         1.656    13.470\n",
       "dayofyear_poly[5]                                     1.3697      3.024      0.453      0.651        -4.556     7.296\n",
       "=====================================================================================================================\n",
       "\"\"\""
      ]
     },
     "execution_count": 34,
     "metadata": {},
     "output_type": "execute_result"
    }
   ],
   "source": [
    "# fit a logit on a response\n",
    "response_logit = smf.glm(formula=\"replied ~ ab*dim_contact_channel + timeofday_poly + weekend_interaction + dayofyear_poly\", data=data, family=sm.families.Binomial()).fit()\n",
    "response_logit.summary()"
   ]
  },
  {
   "cell_type": "markdown",
   "metadata": {},
   "source": [
    "Neither the treatment nor treatment/contact channel interaction is signficant."
   ]
  },
  {
   "cell_type": "code",
   "execution_count": 36,
   "metadata": {
    "collapsed": false
   },
   "outputs": [
    {
     "data": {
      "text/html": [
       "<table class=\"simpletable\">\n",
       "<caption>Generalized Linear Model Regression Results</caption>\n",
       "<tr>\n",
       "  <th>Dep. Variable:</th>  <td>['booked[False]', 'booked[True]']</td> <th>  No. Observations:  </th>  <td>  9233</td> \n",
       "</tr>\n",
       "<tr>\n",
       "  <th>Model:</th>                         <td>GLM</td>                <th>  Df Residuals:      </th>  <td>  9218</td> \n",
       "</tr>\n",
       "<tr>\n",
       "  <th>Model Family:</th>               <td>Binomial</td>              <th>  Df Model:          </th>  <td>    14</td> \n",
       "</tr>\n",
       "<tr>\n",
       "  <th>Link Function:</th>                <td>logit</td>               <th>  Scale:             </th>    <td>1.0</td>  \n",
       "</tr>\n",
       "<tr>\n",
       "  <th>Method:</th>                       <td>IRLS</td>                <th>  Log-Likelihood:    </th> <td> -4126.1</td>\n",
       "</tr>\n",
       "<tr>\n",
       "  <th>Date:</th>                   <td>Wed, 01 Jul 2015</td>          <th>  Deviance:          </th> <td>  8252.2</td>\n",
       "</tr>\n",
       "<tr>\n",
       "  <th>Time:</th>                       <td>09:08:38</td>              <th>  Pearson chi2:      </th> <td>9.25e+03</td>\n",
       "</tr>\n",
       "<tr>\n",
       "  <th>No. Iterations:</th>                 <td>7</td>                 <th>                     </th>     <td> </td>   \n",
       "</tr>\n",
       "</table>\n",
       "<table class=\"simpletable\">\n",
       "<tr>\n",
       "                          <td></td>                             <th>coef</th>     <th>std err</th>      <th>z</th>      <th>P>|z|</th> <th>[95.0% Conf. Int.]</th> \n",
       "</tr>\n",
       "<tr>\n",
       "  <th>Intercept</th>                                         <td>   -0.2762</td> <td>    0.083</td> <td>   -3.330</td> <td> 0.001</td> <td>   -0.439    -0.114</td>\n",
       "</tr>\n",
       "<tr>\n",
       "  <th>ab[T.treatment]</th>                                   <td>    0.1044</td> <td>    0.100</td> <td>    1.045</td> <td> 0.296</td> <td>   -0.091     0.300</td>\n",
       "</tr>\n",
       "<tr>\n",
       "  <th>dim_contact_channel[T.contact_me]</th>                 <td>    2.1922</td> <td>    0.082</td> <td>   26.607</td> <td> 0.000</td> <td>    2.031     2.354</td>\n",
       "</tr>\n",
       "<tr>\n",
       "  <th>weekend_interaction[T.True]</th>                       <td>   -0.0323</td> <td>    0.065</td> <td>   -0.494</td> <td> 0.622</td> <td>   -0.160     0.096</td>\n",
       "</tr>\n",
       "<tr>\n",
       "  <th>ab[T.treatment]:dim_contact_channel[T.contact_me]</th> <td>   -0.1647</td> <td>    0.121</td> <td>   -1.367</td> <td> 0.172</td> <td>   -0.401     0.072</td>\n",
       "</tr>\n",
       "<tr>\n",
       "  <th>timeofday_poly[0]</th>                                 <td>   -0.0029</td> <td>    0.001</td> <td>   -3.330</td> <td> 0.001</td> <td>   -0.005    -0.001</td>\n",
       "</tr>\n",
       "<tr>\n",
       "  <th>timeofday_poly[1]</th>                                 <td>   -3.8737</td> <td>    2.700</td> <td>   -1.435</td> <td> 0.151</td> <td>   -9.166     1.419</td>\n",
       "</tr>\n",
       "<tr>\n",
       "  <th>timeofday_poly[2]</th>                                 <td>    5.0489</td> <td>    2.701</td> <td>    1.869</td> <td> 0.062</td> <td>   -0.246    10.343</td>\n",
       "</tr>\n",
       "<tr>\n",
       "  <th>timeofday_poly[3]</th>                                 <td>    2.0711</td> <td>    2.689</td> <td>    0.770</td> <td> 0.441</td> <td>   -3.199     7.341</td>\n",
       "</tr>\n",
       "<tr>\n",
       "  <th>timeofday_poly[4]</th>                                 <td>   -0.8987</td> <td>    2.693</td> <td>   -0.334</td> <td> 0.739</td> <td>   -6.177     4.380</td>\n",
       "</tr>\n",
       "<tr>\n",
       "  <th>timeofday_poly[5]</th>                                 <td>    2.4364</td> <td>    2.699</td> <td>    0.903</td> <td> 0.367</td> <td>   -2.854     7.727</td>\n",
       "</tr>\n",
       "<tr>\n",
       "  <th>dayofyear_poly[0]</th>                                 <td>   -0.0029</td> <td>    0.001</td> <td>   -3.330</td> <td> 0.001</td> <td>   -0.005    -0.001</td>\n",
       "</tr>\n",
       "<tr>\n",
       "  <th>dayofyear_poly[1]</th>                                 <td>    3.0181</td> <td>    2.661</td> <td>    1.134</td> <td> 0.257</td> <td>   -2.198     8.234</td>\n",
       "</tr>\n",
       "<tr>\n",
       "  <th>dayofyear_poly[2]</th>                                 <td>   -8.2208</td> <td>    2.652</td> <td>   -3.100</td> <td> 0.002</td> <td>  -13.418    -3.023</td>\n",
       "</tr>\n",
       "<tr>\n",
       "  <th>dayofyear_poly[3]</th>                                 <td>    0.4402</td> <td>    2.652</td> <td>    0.166</td> <td> 0.868</td> <td>   -4.758     5.639</td>\n",
       "</tr>\n",
       "<tr>\n",
       "  <th>dayofyear_poly[4]</th>                                 <td>    2.9541</td> <td>    2.652</td> <td>    1.114</td> <td> 0.265</td> <td>   -2.244     8.152</td>\n",
       "</tr>\n",
       "<tr>\n",
       "  <th>dayofyear_poly[5]</th>                                 <td>    0.6068</td> <td>    2.649</td> <td>    0.229</td> <td> 0.819</td> <td>   -4.585     5.798</td>\n",
       "</tr>\n",
       "</table>"
      ],
      "text/plain": [
       "<class 'statsmodels.iolib.summary.Summary'>\n",
       "\"\"\"\n",
       "                         Generalized Linear Model Regression Results                         \n",
       "=============================================================================================\n",
       "Dep. Variable:     ['booked[False]', 'booked[True]']   No. Observations:                 9233\n",
       "Model:                                           GLM   Df Residuals:                     9218\n",
       "Model Family:                               Binomial   Df Model:                           14\n",
       "Link Function:                                 logit   Scale:                             1.0\n",
       "Method:                                         IRLS   Log-Likelihood:                -4126.1\n",
       "Date:                               Wed, 01 Jul 2015   Deviance:                       8252.2\n",
       "Time:                                       09:08:38   Pearson chi2:                 9.25e+03\n",
       "No. Iterations:                                    7                                         \n",
       "=====================================================================================================================\n",
       "                                                        coef    std err          z      P>|z|      [95.0% Conf. Int.]\n",
       "---------------------------------------------------------------------------------------------------------------------\n",
       "Intercept                                            -0.2762      0.083     -3.330      0.001        -0.439    -0.114\n",
       "ab[T.treatment]                                       0.1044      0.100      1.045      0.296        -0.091     0.300\n",
       "dim_contact_channel[T.contact_me]                     2.1922      0.082     26.607      0.000         2.031     2.354\n",
       "weekend_interaction[T.True]                          -0.0323      0.065     -0.494      0.622        -0.160     0.096\n",
       "ab[T.treatment]:dim_contact_channel[T.contact_me]    -0.1647      0.121     -1.367      0.172        -0.401     0.072\n",
       "timeofday_poly[0]                                    -0.0029      0.001     -3.330      0.001        -0.005    -0.001\n",
       "timeofday_poly[1]                                    -3.8737      2.700     -1.435      0.151        -9.166     1.419\n",
       "timeofday_poly[2]                                     5.0489      2.701      1.869      0.062        -0.246    10.343\n",
       "timeofday_poly[3]                                     2.0711      2.689      0.770      0.441        -3.199     7.341\n",
       "timeofday_poly[4]                                    -0.8987      2.693     -0.334      0.739        -6.177     4.380\n",
       "timeofday_poly[5]                                     2.4364      2.699      0.903      0.367        -2.854     7.727\n",
       "dayofyear_poly[0]                                    -0.0029      0.001     -3.330      0.001        -0.005    -0.001\n",
       "dayofyear_poly[1]                                     3.0181      2.661      1.134      0.257        -2.198     8.234\n",
       "dayofyear_poly[2]                                    -8.2208      2.652     -3.100      0.002       -13.418    -3.023\n",
       "dayofyear_poly[3]                                     0.4402      2.652      0.166      0.868        -4.758     5.639\n",
       "dayofyear_poly[4]                                     2.9541      2.652      1.114      0.265        -2.244     8.152\n",
       "dayofyear_poly[5]                                     0.6068      2.649      0.229      0.819        -4.585     5.798\n",
       "=====================================================================================================================\n",
       "\"\"\""
      ]
     },
     "execution_count": 36,
     "metadata": {},
     "output_type": "execute_result"
    }
   ],
   "source": [
    "# fit a logit on a booking\n",
    "response_logit = smf.glm(formula=\"booked ~ ab*dim_contact_channel + timeofday_poly + weekend_interaction + dayofyear_poly\", data=data, family=sm.families.Binomial()).fit()\n",
    "response_logit.summary()"
   ]
  },
  {
   "cell_type": "markdown",
   "metadata": {},
   "source": [
    "Both of these models say the same thing; neither for contact_me or book it does requiring a 140 word message result in a meaningful change in response or booking reates. There is plenty of room for improoved model selection, such as by interacting coefficients, but its pretty unlikely that main result will change."
   ]
  },
  {
   "cell_type": "markdown",
   "metadata": {},
   "source": [
    "##### Linear model predicting log time to response or booking\n",
    "Just to beat on this dead horse a little more, lets see if the guests that get a response or booking do so quicker under the treatment."
   ]
  },
  {
   "cell_type": "code",
   "execution_count": 37,
   "metadata": {
    "collapsed": false
   },
   "outputs": [
    {
     "data": {
      "text/html": [
       "<table class=\"simpletable\">\n",
       "<caption>OLS Regression Results</caption>\n",
       "<tr>\n",
       "  <th>Dep. Variable:</th>        <td>logreply</td>     <th>  R-squared:         </th> <td>   0.056</td> \n",
       "</tr>\n",
       "<tr>\n",
       "  <th>Model:</th>                   <td>OLS</td>       <th>  Adj. R-squared:    </th> <td>   0.054</td> \n",
       "</tr>\n",
       "<tr>\n",
       "  <th>Method:</th>             <td>Least Squares</td>  <th>  F-statistic:       </th> <td>   33.42</td> \n",
       "</tr>\n",
       "<tr>\n",
       "  <th>Date:</th>             <td>Wed, 01 Jul 2015</td> <th>  Prob (F-statistic):</th> <td>3.20e-88</td> \n",
       "</tr>\n",
       "<tr>\n",
       "  <th>Time:</th>                 <td>09:09:12</td>     <th>  Log-Likelihood:    </th> <td> -17513.</td> \n",
       "</tr>\n",
       "<tr>\n",
       "  <th>No. Observations:</th>      <td>  7910</td>      <th>  AIC:               </th> <td>3.506e+04</td>\n",
       "</tr>\n",
       "<tr>\n",
       "  <th>Df Residuals:</th>          <td>  7895</td>      <th>  BIC:               </th> <td>3.516e+04</td>\n",
       "</tr>\n",
       "<tr>\n",
       "  <th>Df Model:</th>              <td>    14</td>      <th>                     </th>     <td> </td>    \n",
       "</tr>\n",
       "<tr>\n",
       "  <th>Covariance Type:</th>      <td>nonrobust</td>    <th>                     </th>     <td> </td>    \n",
       "</tr>\n",
       "</table>\n",
       "<table class=\"simpletable\">\n",
       "<tr>\n",
       "                          <td></td>                             <th>coef</th>     <th>std err</th>      <th>t</th>      <th>P>|t|</th> <th>[95.0% Conf. Int.]</th> \n",
       "</tr>\n",
       "<tr>\n",
       "  <th>Intercept</th>                                         <td>    9.1091</td> <td>    0.089</td> <td>  102.888</td> <td> 0.000</td> <td>    8.936     9.283</td>\n",
       "</tr>\n",
       "<tr>\n",
       "  <th>ab[T.treatment]</th>                                   <td>    0.1112</td> <td>    0.115</td> <td>    0.968</td> <td> 0.333</td> <td>   -0.114     0.336</td>\n",
       "</tr>\n",
       "<tr>\n",
       "  <th>dim_contact_channel[T.contact_me]</th>                 <td>    0.5994</td> <td>    0.086</td> <td>    6.956</td> <td> 0.000</td> <td>    0.430     0.768</td>\n",
       "</tr>\n",
       "<tr>\n",
       "  <th>weekend_interaction[T.True]</th>                       <td>   -0.2680</td> <td>    0.059</td> <td>   -4.556</td> <td> 0.000</td> <td>   -0.383    -0.153</td>\n",
       "</tr>\n",
       "<tr>\n",
       "  <th>ab[T.treatment]:dim_contact_channel[T.contact_me]</th> <td>   -0.0855</td> <td>    0.128</td> <td>   -0.670</td> <td> 0.503</td> <td>   -0.336     0.165</td>\n",
       "</tr>\n",
       "<tr>\n",
       "  <th>timeofday_poly[0]</th>                                 <td>    0.0948</td> <td>    0.001</td> <td>  102.888</td> <td> 0.000</td> <td>    0.093     0.097</td>\n",
       "</tr>\n",
       "<tr>\n",
       "  <th>timeofday_poly[1]</th>                                 <td>  -16.0989</td> <td>    2.404</td> <td>   -6.695</td> <td> 0.000</td> <td>  -20.812   -11.385</td>\n",
       "</tr>\n",
       "<tr>\n",
       "  <th>timeofday_poly[2]</th>                                 <td>  -18.5821</td> <td>    2.396</td> <td>   -7.756</td> <td> 0.000</td> <td>  -23.278   -13.886</td>\n",
       "</tr>\n",
       "<tr>\n",
       "  <th>timeofday_poly[3]</th>                                 <td>   18.2011</td> <td>    2.402</td> <td>    7.579</td> <td> 0.000</td> <td>   13.493    22.909</td>\n",
       "</tr>\n",
       "<tr>\n",
       "  <th>timeofday_poly[4]</th>                                 <td>   16.1274</td> <td>    2.392</td> <td>    6.741</td> <td> 0.000</td> <td>   11.438    20.817</td>\n",
       "</tr>\n",
       "<tr>\n",
       "  <th>timeofday_poly[5]</th>                                 <td>  -13.0939</td> <td>    2.396</td> <td>   -5.465</td> <td> 0.000</td> <td>  -17.791    -8.397</td>\n",
       "</tr>\n",
       "<tr>\n",
       "  <th>dayofyear_poly[0]</th>                                 <td>    0.0948</td> <td>    0.001</td> <td>  102.888</td> <td> 0.000</td> <td>    0.093     0.097</td>\n",
       "</tr>\n",
       "<tr>\n",
       "  <th>dayofyear_poly[1]</th>                                 <td>  -18.3957</td> <td>    2.387</td> <td>   -7.706</td> <td> 0.000</td> <td>  -23.075   -13.716</td>\n",
       "</tr>\n",
       "<tr>\n",
       "  <th>dayofyear_poly[2]</th>                                 <td>  -11.1289</td> <td>    2.382</td> <td>   -4.672</td> <td> 0.000</td> <td>  -15.798    -6.460</td>\n",
       "</tr>\n",
       "<tr>\n",
       "  <th>dayofyear_poly[3]</th>                                 <td>    7.7496</td> <td>    2.387</td> <td>    3.246</td> <td> 0.001</td> <td>    3.070    12.429</td>\n",
       "</tr>\n",
       "<tr>\n",
       "  <th>dayofyear_poly[4]</th>                                 <td>   -0.5309</td> <td>    2.375</td> <td>   -0.224</td> <td> 0.823</td> <td>   -5.187     4.125</td>\n",
       "</tr>\n",
       "<tr>\n",
       "  <th>dayofyear_poly[5]</th>                                 <td>   -0.0276</td> <td>    2.375</td> <td>   -0.012</td> <td> 0.991</td> <td>   -4.682     4.627</td>\n",
       "</tr>\n",
       "</table>\n",
       "<table class=\"simpletable\">\n",
       "<tr>\n",
       "  <th>Omnibus:</th>       <td> 9.271</td> <th>  Durbin-Watson:     </th> <td>   1.980</td>\n",
       "</tr>\n",
       "<tr>\n",
       "  <th>Prob(Omnibus):</th> <td> 0.010</td> <th>  Jarque-Bera (JB):  </th> <td>   8.413</td>\n",
       "</tr>\n",
       "<tr>\n",
       "  <th>Skew:</th>          <td> 0.037</td> <th>  Prob(JB):          </th> <td>  0.0149</td>\n",
       "</tr>\n",
       "<tr>\n",
       "  <th>Kurtosis:</th>      <td> 2.858</td> <th>  Cond. No.          </th> <td>2.23e+18</td>\n",
       "</tr>\n",
       "</table>"
      ],
      "text/plain": [
       "<class 'statsmodels.iolib.summary.Summary'>\n",
       "\"\"\"\n",
       "                            OLS Regression Results                            \n",
       "==============================================================================\n",
       "Dep. Variable:               logreply   R-squared:                       0.056\n",
       "Model:                            OLS   Adj. R-squared:                  0.054\n",
       "Method:                 Least Squares   F-statistic:                     33.42\n",
       "Date:                Wed, 01 Jul 2015   Prob (F-statistic):           3.20e-88\n",
       "Time:                        09:09:12   Log-Likelihood:                -17513.\n",
       "No. Observations:                7910   AIC:                         3.506e+04\n",
       "Df Residuals:                    7895   BIC:                         3.516e+04\n",
       "Df Model:                          14                                         \n",
       "Covariance Type:            nonrobust                                         \n",
       "=====================================================================================================================\n",
       "                                                        coef    std err          t      P>|t|      [95.0% Conf. Int.]\n",
       "---------------------------------------------------------------------------------------------------------------------\n",
       "Intercept                                             9.1091      0.089    102.888      0.000         8.936     9.283\n",
       "ab[T.treatment]                                       0.1112      0.115      0.968      0.333        -0.114     0.336\n",
       "dim_contact_channel[T.contact_me]                     0.5994      0.086      6.956      0.000         0.430     0.768\n",
       "weekend_interaction[T.True]                          -0.2680      0.059     -4.556      0.000        -0.383    -0.153\n",
       "ab[T.treatment]:dim_contact_channel[T.contact_me]    -0.0855      0.128     -0.670      0.503        -0.336     0.165\n",
       "timeofday_poly[0]                                     0.0948      0.001    102.888      0.000         0.093     0.097\n",
       "timeofday_poly[1]                                   -16.0989      2.404     -6.695      0.000       -20.812   -11.385\n",
       "timeofday_poly[2]                                   -18.5821      2.396     -7.756      0.000       -23.278   -13.886\n",
       "timeofday_poly[3]                                    18.2011      2.402      7.579      0.000        13.493    22.909\n",
       "timeofday_poly[4]                                    16.1274      2.392      6.741      0.000        11.438    20.817\n",
       "timeofday_poly[5]                                   -13.0939      2.396     -5.465      0.000       -17.791    -8.397\n",
       "dayofyear_poly[0]                                     0.0948      0.001    102.888      0.000         0.093     0.097\n",
       "dayofyear_poly[1]                                   -18.3957      2.387     -7.706      0.000       -23.075   -13.716\n",
       "dayofyear_poly[2]                                   -11.1289      2.382     -4.672      0.000       -15.798    -6.460\n",
       "dayofyear_poly[3]                                     7.7496      2.387      3.246      0.001         3.070    12.429\n",
       "dayofyear_poly[4]                                    -0.5309      2.375     -0.224      0.823        -5.187     4.125\n",
       "dayofyear_poly[5]                                    -0.0276      2.375     -0.012      0.991        -4.682     4.627\n",
       "==============================================================================\n",
       "Omnibus:                        9.271   Durbin-Watson:                   1.980\n",
       "Prob(Omnibus):                  0.010   Jarque-Bera (JB):                8.413\n",
       "Skew:                           0.037   Prob(JB):                       0.0149\n",
       "Kurtosis:                       2.858   Cond. No.                     2.23e+18\n",
       "==============================================================================\n",
       "\n",
       "Warnings:\n",
       "[1] Standard Errors assume that the covariance matrix of the errors is correctly specified.\n",
       "[2] The smallest eigenvalue is 4.4e-33. This might indicate that there are\n",
       "strong multicollinearity problems or that the design matrix is singular.\n",
       "\"\"\""
      ]
     },
     "execution_count": 37,
     "metadata": {},
     "output_type": "execute_result"
    }
   ],
   "source": [
    "# generate the outcome\n",
    "# add some time to ensure no missing values after taking the log\n",
    "logreply = np.log(data.ts_reply_at_first_lag.astype('timedelta64[s]')+120) \n",
    "\n",
    "# fit a logit on a response\n",
    "response_logit = smf.ols(formula=\"logreply ~ ab*dim_contact_channel + timeofday_poly + weekend_interaction + dayofyear_poly\",missing='drop',data=data).fit()\n",
    "response_logit.summary()"
   ]
  },
  {
   "cell_type": "markdown",
   "metadata": {},
   "source": [
    "Again, neither the treatment nor treatment/contact channel interaction is signficant."
   ]
  },
  {
   "cell_type": "code",
   "execution_count": 38,
   "metadata": {
    "collapsed": false
   },
   "outputs": [
    {
     "data": {
      "text/html": [
       "<table class=\"simpletable\">\n",
       "<caption>OLS Regression Results</caption>\n",
       "<tr>\n",
       "  <th>Dep. Variable:</th>        <td>logreply</td>     <th>  R-squared:         </th> <td>   0.271</td> \n",
       "</tr>\n",
       "<tr>\n",
       "  <th>Model:</th>                   <td>OLS</td>       <th>  Adj. R-squared:    </th> <td>   0.266</td> \n",
       "</tr>\n",
       "<tr>\n",
       "  <th>Method:</th>             <td>Least Squares</td>  <th>  F-statistic:       </th> <td>   51.40</td> \n",
       "</tr>\n",
       "<tr>\n",
       "  <th>Date:</th>             <td>Wed, 01 Jul 2015</td> <th>  Prob (F-statistic):</th> <td>6.54e-122</td>\n",
       "</tr>\n",
       "<tr>\n",
       "  <th>Time:</th>                 <td>09:09:49</td>     <th>  Log-Likelihood:    </th> <td> -4118.8</td> \n",
       "</tr>\n",
       "<tr>\n",
       "  <th>No. Observations:</th>      <td>  1951</td>      <th>  AIC:               </th> <td>   8268.</td> \n",
       "</tr>\n",
       "<tr>\n",
       "  <th>Df Residuals:</th>          <td>  1936</td>      <th>  BIC:               </th> <td>   8351.</td> \n",
       "</tr>\n",
       "<tr>\n",
       "  <th>Df Model:</th>              <td>    14</td>      <th>                     </th>     <td> </td>    \n",
       "</tr>\n",
       "<tr>\n",
       "  <th>Covariance Type:</th>      <td>nonrobust</td>    <th>                     </th>     <td> </td>    \n",
       "</tr>\n",
       "</table>\n",
       "<table class=\"simpletable\">\n",
       "<tr>\n",
       "                          <td></td>                             <th>coef</th>     <th>std err</th>      <th>t</th>      <th>P>|t|</th> <th>[95.0% Conf. Int.]</th> \n",
       "</tr>\n",
       "<tr>\n",
       "  <th>Intercept</th>                                         <td>    8.7405</td> <td>    0.120</td> <td>   72.977</td> <td> 0.000</td> <td>    8.506     8.975</td>\n",
       "</tr>\n",
       "<tr>\n",
       "  <th>ab[T.treatment]</th>                                   <td>    0.1085</td> <td>    0.133</td> <td>    0.815</td> <td> 0.415</td> <td>   -0.153     0.370</td>\n",
       "</tr>\n",
       "<tr>\n",
       "  <th>dim_contact_channel[T.contact_me]</th>                 <td>    2.2841</td> <td>    0.124</td> <td>   18.355</td> <td> 0.000</td> <td>    2.040     2.528</td>\n",
       "</tr>\n",
       "<tr>\n",
       "  <th>weekend_interaction[T.True]</th>                       <td>   -0.2262</td> <td>    0.107</td> <td>   -2.119</td> <td> 0.034</td> <td>   -0.435    -0.017</td>\n",
       "</tr>\n",
       "<tr>\n",
       "  <th>ab[T.treatment]:dim_contact_channel[T.contact_me]</th> <td>    0.0081</td> <td>    0.183</td> <td>    0.044</td> <td> 0.965</td> <td>   -0.351     0.367</td>\n",
       "</tr>\n",
       "<tr>\n",
       "  <th>timeofday_poly[0]</th>                                 <td>    0.0910</td> <td>    0.001</td> <td>   72.977</td> <td> 0.000</td> <td>    0.089     0.093</td>\n",
       "</tr>\n",
       "<tr>\n",
       "  <th>timeofday_poly[1]</th>                                 <td>  -16.3962</td> <td>    4.422</td> <td>   -3.708</td> <td> 0.000</td> <td>  -25.068    -7.725</td>\n",
       "</tr>\n",
       "<tr>\n",
       "  <th>timeofday_poly[2]</th>                                 <td>  -17.5669</td> <td>    4.444</td> <td>   -3.953</td> <td> 0.000</td> <td>  -26.283    -8.851</td>\n",
       "</tr>\n",
       "<tr>\n",
       "  <th>timeofday_poly[3]</th>                                 <td>    8.8165</td> <td>    4.465</td> <td>    1.975</td> <td> 0.048</td> <td>    0.060    17.574</td>\n",
       "</tr>\n",
       "<tr>\n",
       "  <th>timeofday_poly[4]</th>                                 <td>   17.5891</td> <td>    4.419</td> <td>    3.981</td> <td> 0.000</td> <td>    8.923    26.255</td>\n",
       "</tr>\n",
       "<tr>\n",
       "  <th>timeofday_poly[5]</th>                                 <td>   -8.8845</td> <td>    4.504</td> <td>   -1.973</td> <td> 0.049</td> <td>  -17.718    -0.051</td>\n",
       "</tr>\n",
       "<tr>\n",
       "  <th>dayofyear_poly[0]</th>                                 <td>    0.0910</td> <td>    0.001</td> <td>   72.977</td> <td> 0.000</td> <td>    0.089     0.093</td>\n",
       "</tr>\n",
       "<tr>\n",
       "  <th>dayofyear_poly[1]</th>                                 <td>   -5.3904</td> <td>    4.293</td> <td>   -1.256</td> <td> 0.209</td> <td>  -13.809     3.028</td>\n",
       "</tr>\n",
       "<tr>\n",
       "  <th>dayofyear_poly[2]</th>                                 <td>   -1.5911</td> <td>    4.320</td> <td>   -0.368</td> <td> 0.713</td> <td>  -10.064     6.882</td>\n",
       "</tr>\n",
       "<tr>\n",
       "  <th>dayofyear_poly[3]</th>                                 <td>    6.5022</td> <td>    4.301</td> <td>    1.512</td> <td> 0.131</td> <td>   -1.933    14.938</td>\n",
       "</tr>\n",
       "<tr>\n",
       "  <th>dayofyear_poly[4]</th>                                 <td>   -2.5591</td> <td>    4.284</td> <td>   -0.597</td> <td> 0.550</td> <td>  -10.960     5.842</td>\n",
       "</tr>\n",
       "<tr>\n",
       "  <th>dayofyear_poly[5]</th>                                 <td>   -0.9927</td> <td>    4.324</td> <td>   -0.230</td> <td> 0.818</td> <td>   -9.473     7.487</td>\n",
       "</tr>\n",
       "</table>\n",
       "<table class=\"simpletable\">\n",
       "<tr>\n",
       "  <th>Omnibus:</th>       <td>19.438</td> <th>  Durbin-Watson:     </th> <td>   2.008</td>\n",
       "</tr>\n",
       "<tr>\n",
       "  <th>Prob(Omnibus):</th> <td> 0.000</td> <th>  Jarque-Bera (JB):  </th> <td>  19.848</td>\n",
       "</tr>\n",
       "<tr>\n",
       "  <th>Skew:</th>          <td>-0.247</td> <th>  Prob(JB):          </th> <td>4.90e-05</td>\n",
       "</tr>\n",
       "<tr>\n",
       "  <th>Kurtosis:</th>      <td> 3.005</td> <th>  Cond. No.          </th> <td>3.69e+18</td>\n",
       "</tr>\n",
       "</table>"
      ],
      "text/plain": [
       "<class 'statsmodels.iolib.summary.Summary'>\n",
       "\"\"\"\n",
       "                            OLS Regression Results                            \n",
       "==============================================================================\n",
       "Dep. Variable:               logreply   R-squared:                       0.271\n",
       "Model:                            OLS   Adj. R-squared:                  0.266\n",
       "Method:                 Least Squares   F-statistic:                     51.40\n",
       "Date:                Wed, 01 Jul 2015   Prob (F-statistic):          6.54e-122\n",
       "Time:                        09:09:49   Log-Likelihood:                -4118.8\n",
       "No. Observations:                1951   AIC:                             8268.\n",
       "Df Residuals:                    1936   BIC:                             8351.\n",
       "Df Model:                          14                                         \n",
       "Covariance Type:            nonrobust                                         \n",
       "=====================================================================================================================\n",
       "                                                        coef    std err          t      P>|t|      [95.0% Conf. Int.]\n",
       "---------------------------------------------------------------------------------------------------------------------\n",
       "Intercept                                             8.7405      0.120     72.977      0.000         8.506     8.975\n",
       "ab[T.treatment]                                       0.1085      0.133      0.815      0.415        -0.153     0.370\n",
       "dim_contact_channel[T.contact_me]                     2.2841      0.124     18.355      0.000         2.040     2.528\n",
       "weekend_interaction[T.True]                          -0.2262      0.107     -2.119      0.034        -0.435    -0.017\n",
       "ab[T.treatment]:dim_contact_channel[T.contact_me]     0.0081      0.183      0.044      0.965        -0.351     0.367\n",
       "timeofday_poly[0]                                     0.0910      0.001     72.977      0.000         0.089     0.093\n",
       "timeofday_poly[1]                                   -16.3962      4.422     -3.708      0.000       -25.068    -7.725\n",
       "timeofday_poly[2]                                   -17.5669      4.444     -3.953      0.000       -26.283    -8.851\n",
       "timeofday_poly[3]                                     8.8165      4.465      1.975      0.048         0.060    17.574\n",
       "timeofday_poly[4]                                    17.5891      4.419      3.981      0.000         8.923    26.255\n",
       "timeofday_poly[5]                                    -8.8845      4.504     -1.973      0.049       -17.718    -0.051\n",
       "dayofyear_poly[0]                                     0.0910      0.001     72.977      0.000         0.089     0.093\n",
       "dayofyear_poly[1]                                    -5.3904      4.293     -1.256      0.209       -13.809     3.028\n",
       "dayofyear_poly[2]                                    -1.5911      4.320     -0.368      0.713       -10.064     6.882\n",
       "dayofyear_poly[3]                                     6.5022      4.301      1.512      0.131        -1.933    14.938\n",
       "dayofyear_poly[4]                                    -2.5591      4.284     -0.597      0.550       -10.960     5.842\n",
       "dayofyear_poly[5]                                    -0.9927      4.324     -0.230      0.818        -9.473     7.487\n",
       "==============================================================================\n",
       "Omnibus:                       19.438   Durbin-Watson:                   2.008\n",
       "Prob(Omnibus):                  0.000   Jarque-Bera (JB):               19.848\n",
       "Skew:                          -0.247   Prob(JB):                     4.90e-05\n",
       "Kurtosis:                       3.005   Cond. No.                     3.69e+18\n",
       "==============================================================================\n",
       "\n",
       "Warnings:\n",
       "[1] Standard Errors assume that the covariance matrix of the errors is correctly specified.\n",
       "[2] The smallest eigenvalue is 3.27e-34. This might indicate that there are\n",
       "strong multicollinearity problems or that the design matrix is singular.\n",
       "\"\"\""
      ]
     },
     "execution_count": 38,
     "metadata": {},
     "output_type": "execute_result"
    }
   ],
   "source": [
    "# generate the outcome, this time booking lag\n",
    "logreply = np.log(data.ts_booking_at_lag.astype('timedelta64[s]')+120) # need to ensure there are no negative values\n",
    "\n",
    "# fit a logit on a response\n",
    "response_logit = smf.ols(formula=\"logreply ~ ab*dim_contact_channel + timeofday_poly + weekend_interaction + dayofyear_poly\",missing='drop',data=data).fit()\n",
    "response_logit.summary()"
   ]
  },
  {
   "cell_type": "markdown",
   "metadata": {},
   "source": [
    "Again, the treatment doesn't make a statistically signficant difference. Time of day when the request is sent is much more important though, as one might expect."
   ]
  }
 ],
 "metadata": {
  "kernelspec": {
   "display_name": "Python 2",
   "language": "python",
   "name": "python2"
  },
  "language_info": {
   "codemirror_mode": {
    "name": "ipython",
    "version": 2
   },
   "file_extension": ".py",
   "mimetype": "text/x-python",
   "name": "python",
   "nbconvert_exporter": "python",
   "pygments_lexer": "ipython2",
   "version": "2.7.6"
  }
 },
 "nbformat": 4,
 "nbformat_minor": 0
}
