{
 "cells": [
  {
   "cell_type": "code",
   "execution_count": 9,
   "metadata": {
    "collapsed": false
   },
   "outputs": [],
   "source": [
    "# imports; may not end up using all of these\n",
    "import pandas as pd, numpy as np, numpy.linalg as nplin, matplotlib.pyplot as plt, \\\n",
    "    scipy as sp, scipy.stats as spstat, sklearn as sk, datetime as dt, \\\n",
    "    statsmodels.api as sm, statsmodels.formula.api as smf, sqlite3 as sql\n",
    "from __future__ import division\n",
    "from datetime import datetime, time\n",
    "from pandas.tseries.offsets import DateOffset\n",
    "%matplotlib inline"
   ]
  },
  {
   "cell_type": "code",
   "execution_count": 4,
   "metadata": {
    "collapsed": false
   },
   "outputs": [
    {
     "name": "stdout",
     "output_type": "stream",
     "text": [
      "  % Total    % Received % Xferd  Average Speed   Time    Time     Time  Current\n",
      "                                 Dload  Upload   Total   Spent    Left  Speed\n",
      "100 1095k  100 1095k    0     0   261k      0  0:00:04  0:00:04 --:--:--  261k\n"
     ]
    }
   ],
   "source": [
    "!curl -O https://static.thumbtack.com/media/challenges/invite_dataset_ff829852.sqlite.gz\n",
    "!gunzip invite_dataset_ff829852.sqlite.gz"
   ]
  },
  {
   "cell_type": "code",
   "execution_count": 10,
   "metadata": {
    "collapsed": false
   },
   "outputs": [],
   "source": [
    "conn = sql.connect(\"invite_dataset_ff829852.sqlite\")\n",
    "c = conn.cursor()"
   ]
  },
  {
   "cell_type": "code",
   "execution_count": 15,
   "metadata": {
    "collapsed": false
   },
   "outputs": [
    {
     "data": {
      "text/plain": [
       "[(0, u'category_id', u'INTEGER', 1, None, 1),\n",
       " (1, u'name', u'VARCHAR', 1, None, 0)]"
      ]
     },
     "execution_count": 15,
     "metadata": {},
     "output_type": "execute_result"
    }
   ],
   "source": [
    "c.execute('PRAGMA table_info(categories)')\n",
    "c.fetchall()"
   ]
  },
  {
   "cell_type": "code",
   "execution_count": 23,
   "metadata": {
    "collapsed": false
   },
   "outputs": [
    {
     "data": {
      "text/plain": [
       "[(0, u'request_id', u'INTEGER', 1, None, 1),\n",
       " (1, u'user_id', u'INTEGER', 1, None, 0),\n",
       " (2, u'category_id', u'INTEGER', 1, None, 0),\n",
       " (3, u'location_id', u'INTEGER', 1, None, 0),\n",
       " (4, u'creation_time', u'DATETIME', 1, None, 0)]"
      ]
     },
     "execution_count": 23,
     "metadata": {},
     "output_type": "execute_result"
    }
   ],
   "source": [
    "c.execute('PRAGMA table_info(requests)')\n",
    "c.fetchall()"
   ]
  },
  {
   "cell_type": "code",
   "execution_count": 24,
   "metadata": {
    "collapsed": false
   },
   "outputs": [
    {
     "data": {
      "text/plain": [
       "[(1, u'New York-Newark-Jersey City, NY-NJ-PA'),\n",
       " (2, u'Los Angeles-Long Beach-Anaheim, CA'),\n",
       " (3, u'Chicago-Naperville-Elgin, IL-IN-WI'),\n",
       " (4, u'Dallas-Fort Worth-Arlington, TX'),\n",
       " (5, u'Houston-The Woodlands-Sugar Land, TX'),\n",
       " (6, u'Philadelphia-Camden-Wilmington, PA-NJ-DE-MD'),\n",
       " (7, u'Washington-Arlington-Alexandria, DC-VA-MD-WV'),\n",
       " (8, u'Miami-Fort Lauderdale-West Palm Beach, FL'),\n",
       " (9, u'Atlanta-Sandy Springs-Roswell, GA'),\n",
       " (10, u'Boston-Cambridge-Newton, MA-NH'),\n",
       " (11, u'San Francisco-Oakland-Fremont, CA'),\n",
       " (12, u'Riverside-San Bernardino-Ontario, CA'),\n",
       " (13, u'Phoenix-Mesa-Scottsdale, AZ'),\n",
       " (14, u'Detroit-Warren-Dearborn, MI'),\n",
       " (15, u'Seattle-Tacoma-Bellevue, WA'),\n",
       " (16, u'Minneapolis-St. Paul-Bloomington, MN-WI'),\n",
       " (17, u'San Diego-Carlsbad, CA'),\n",
       " (18, u'Tampa-St. Petersburg-Clearwater, FL'),\n",
       " (19, u'St. Louis, MO-IL'),\n",
       " (20, u'Baltimore-Columbia-Towson, MD'),\n",
       " (21, u'Denver-Aurora-Lakewood, CO'),\n",
       " (22, u'Pittsburgh, PA'),\n",
       " (23, u'Charlotte-Concord-Gastonia, NC-SC'),\n",
       " (24, u'Portland-Vancouver-Hillsboro, OR-WA'),\n",
       " (25, u'San Antonio-New Braunfels, TX'),\n",
       " (26, u'Orlando-Kissimmee-Sanford, FL'),\n",
       " (27, u'Sacramento-Roseville-Arden-Arcade, CA'),\n",
       " (28, u'Cincinnati, OH-KY-IN'),\n",
       " (29, u'Cleveland-Elyria, OH'),\n",
       " (30, u'Kansas City, MO-KS'),\n",
       " (31, u'Las Vegas-Henderson-Paradise, NV'),\n",
       " (32, u'Columbus, OH'),\n",
       " (33, u'Indianapolis-Carmel-Anderson, IN'),\n",
       " (34, u'San Jose-Sunnyvale-Santa Clara, CA'),\n",
       " (35, u'Austin-Round Rock, TX'),\n",
       " (36, u'Nashville-Davidson-Murfreesboro-Franklin, TN'),\n",
       " (37, u'Virginia Beach-Norfolk-Newport News, VA-NC'),\n",
       " (38, u'Providence-Warwick, RI-MA'),\n",
       " (39, u'Milwaukee-Waukesha-West Allis, WI'),\n",
       " (40, u'Jacksonville, FL'),\n",
       " (41, u'Memphis, TN-MS-AR'),\n",
       " (42, u'Louisville/Jefferson County, KY-IN'),\n",
       " (43, u'Oklahoma City, OK'),\n",
       " (44, u'Richmond, VA'),\n",
       " (45, u'New Orleans-Metairie, LA'),\n",
       " (46, u'Hartford-West Hartford-East Hartford, CT'),\n",
       " (47, u'Raleigh, NC'),\n",
       " (48, u'Birmingham-Hoover, AL'),\n",
       " (49, u'Buffalo-Cheektowaga-Niagara Falls, NY'),\n",
       " (50, u'Salt Lake City, UT'),\n",
       " (51, u'Rochester, NY'),\n",
       " (52, u'Grand Rapids-Wyoming, MI'),\n",
       " (53, u'Tucson, AZ'),\n",
       " (54, u'Urban Honolulu, HI'),\n",
       " (55, u'Tulsa, OK'),\n",
       " (56, u'Fresno, CA'),\n",
       " (57, u'Bridgeport-Stamford-Norwalk, CT'),\n",
       " (58, u'Worcester, MA-CT'),\n",
       " (59, u'Albuquerque, NM'),\n",
       " (60, u'Omaha-Council Bluffs, NE-IA'),\n",
       " (61, u'Albany-Schenectady-Troy, NY'),\n",
       " (62, u'New Haven-Milford, CT'),\n",
       " (63, u'Bakersfield, CA'),\n",
       " (64, u'Knoxville, TN'),\n",
       " (65, u'Greenville-Anderson-Mauldin, SC'),\n",
       " (66, u'Oxnard-Thousand Oaks-Ventura, CA'),\n",
       " (67, u'El Paso, TX'),\n",
       " (68, u'Allentown-Bethlehem-Easton, PA-NJ'),\n",
       " (69, u'Baton Rouge, LA'),\n",
       " (70, u'McAllen-Edinburg-Mission, TX'),\n",
       " (71, u'Dayton, OH'),\n",
       " (72, u'Columbia, SC'),\n",
       " (73, u'Greensboro-High Point, NC'),\n",
       " (74, u'North Port-Sarasota-Bradenton, FL'),\n",
       " (75, u'Little Rock-North Little Rock-Conway, AR'),\n",
       " (76, u'Stockton-Lodi, CA'),\n",
       " (77, u'Akron, OH'),\n",
       " (78, u'Charleston-North Charleston, SC'),\n",
       " (79, u'Colorado Springs, CO'),\n",
       " (80, u'Syracuse, NY'),\n",
       " (81, u'Winston-Salem, NC'),\n",
       " (82, u'Cape Coral-Fort Myers, FL'),\n",
       " (83, u'Boise City, ID'),\n",
       " (84, u'Wichita, KS'),\n",
       " (85, u'Springfield, MA'),\n",
       " (86, u'Madison, WI'),\n",
       " (87, u'Lakeland-Winter Haven, FL'),\n",
       " (88, u'Ogden-Clearfield, UT'),\n",
       " (89, u'Toledo, OH'),\n",
       " (90, u'Deltona-Daytona Beach-Ormond Beach, FL'),\n",
       " (91, u'Des Moines-West Des Moines, IA'),\n",
       " (92, u'Jackson, MS'),\n",
       " (93, u'Augusta-Richmond County, GA-SC'),\n",
       " (94, u'Scranton-Wilkes-Barre-Hazleton, PA'),\n",
       " (95, u'Youngstown-Warren-Boardman, OH-PA'),\n",
       " (96, u'Harrisburg-Carlisle, PA'),\n",
       " (97, u'Provo-Orem, UT'),\n",
       " (98, u'Palm Bay-Melbourne-Titusville, FL'),\n",
       " (99, u'Chattanooga, TN-GA'),\n",
       " (100, u'Spokane-Spokane Valley, WA')]"
      ]
     },
     "execution_count": 24,
     "metadata": {},
     "output_type": "execute_result"
    }
   ],
   "source": [
    "c.execute('SELECT location_id, name FROM locations')\n",
    "c.fetchall()"
   ]
  },
  {
   "cell_type": "code",
   "execution_count": 16,
   "metadata": {
    "collapsed": false
   },
   "outputs": [
    {
     "data": {
      "text/plain": [
       "[(1, u'Photography'),\n",
       " (2, u'Window Installation'),\n",
       " (3, u'Portrait Photography'),\n",
       " (4, u'Wedding Band'),\n",
       " (5, u'Home Security and Alarms'),\n",
       " (6, u'Landscaping'),\n",
       " (7, u'TV Mounting'),\n",
       " (8, u'Furniture Refinishing'),\n",
       " (9, u'Wiring'),\n",
       " (10, u'Pest Control Services'),\n",
       " (11, u'Lawn Mowing'),\n",
       " (12, u'General Contracting'),\n",
       " (13, u'Home Remodeling'),\n",
       " (14, u'Masonry Services'),\n",
       " (15, u'Swimming Pool Cleaning'),\n",
       " (16, u'Fence Installation'),\n",
       " (17, u'Music Lessons'),\n",
       " (18, u'Roof Installation or Replacement'),\n",
       " (19, u'Headshot Photography'),\n",
       " (20, u'Window Cleaning'),\n",
       " (21, u'Electrical'),\n",
       " (22, u'Spanish Lessons'),\n",
       " (23, u'Party Rental Supplies'),\n",
       " (24, u'Event Photography'),\n",
       " (25, u'Carpet Installation or Replacement'),\n",
       " (26, u'Massage Therapy'),\n",
       " (27, u'Tiling'),\n",
       " (28, u'Food Truck or Cart Services'),\n",
       " (29, u'Landscape Design'),\n",
       " (30, u'Air Conditioning and Cooling'),\n",
       " (31, u'Mold Remediation'),\n",
       " (32, u'Clown Entertainment'),\n",
       " (33, u'Event Decorator and Designing'),\n",
       " (34, u'Guitar Teaching'),\n",
       " (35, u'Junk Removal'),\n",
       " (36, u'Home Theater Installation'),\n",
       " (37, u'Gutter Cleaning'),\n",
       " (38, u'Tennis Instruction'),\n",
       " (39, u'Painting'),\n",
       " (40, u'Karaoke'),\n",
       " (41, u'Photo Booth Rental'),\n",
       " (42, u'Makeup Artist'),\n",
       " (43, u'Bartending'),\n",
       " (44, u'Wedding Decorating'),\n",
       " (45, u'Hardwood Flooring'),\n",
       " (46, u'DJ'),\n",
       " (47, u'Boudoir Photography'),\n",
       " (48, u'House Cleaning'),\n",
       " (49, u'Concrete Driveway Installation'),\n",
       " (50, u'SAT Tutoring'),\n",
       " (51, u'Party Planning'),\n",
       " (52, u'Commercial Photography'),\n",
       " (53, u'Piano Lessons'),\n",
       " (54, u'ACT Tutoring'),\n",
       " (55, u'Floor Tiling'),\n",
       " (56, u'Dance Lessons'),\n",
       " (57, u'Deck or Porch Services'),\n",
       " (58, u'Exterior Painting'),\n",
       " (59, u'Laminate and Vinyl Flooring'),\n",
       " (60, u'Carpentry and Woodworking'),\n",
       " (61, u'Singing Lessons'),\n",
       " (62, u'Tree Trimming'),\n",
       " (63, u'Window Repair'),\n",
       " (64, u'Wedding Photography'),\n",
       " (65, u'Roof Repair'),\n",
       " (66, u'Carpentry'),\n",
       " (67, u'Event Lighting Sound and Video Services'),\n",
       " (68, u'Algebra Tutoring'),\n",
       " (69, u'Land Surveying'),\n",
       " (70, u'Plumbing'),\n",
       " (71, u'Mold Inspection'),\n",
       " (72, u'Florist'),\n",
       " (73, u'Videography'),\n",
       " (74, u'Carpet Cleaning'),\n",
       " (75, u'Real Estate Inspection'),\n",
       " (76, u'Moon Bounce Rental Services'),\n",
       " (77, u'Interior Painting'),\n",
       " (78, u'Stump Grinding and Removal'),\n",
       " (79, u'Power Washing'),\n",
       " (80, u'Tree and Shrub Service'),\n",
       " (81, u'Wedding Videography'),\n",
       " (82, u'Video Filming'),\n",
       " (83, u'Face Painting'),\n",
       " (84, u'Upholstery and Furniture Cleaning'),\n",
       " (85, u'Door Installation'),\n",
       " (86, u'Lawncare'),\n",
       " (87, u'Concrete Services'),\n",
       " (88, u'Furniture Assembly'),\n",
       " (89, u'Engagement Photography'),\n",
       " (90, u'Fence Repair'),\n",
       " (91, u'Architectural Services'),\n",
       " (92, u'Cabinetry'),\n",
       " (93, u'Pastry Chef Services'),\n",
       " (94, u'Personal Chef Services'),\n",
       " (95, u'Math Tutoring'),\n",
       " (96, u'Wedding Transportation'),\n",
       " (97, u'Nutritionist'),\n",
       " (98, u'Local Moving (under 50 miles)'),\n",
       " (99, u'Band Entertainment'),\n",
       " (100, u'Wedding Officiant'),\n",
       " (101, u'Flooring'),\n",
       " (102, u'Handyman'),\n",
       " (103, u'Catering'),\n",
       " (104, u'Personal Training'),\n",
       " (105, u'Ducts and Vents'),\n",
       " (106, u'Wedding Planning'),\n",
       " (107, u'Home Staging'),\n",
       " (108, u'Balloon Artistry'),\n",
       " (109, u'Interior Design'),\n",
       " (110, u'Magician'),\n",
       " (111, u'Commercial Cleaning'),\n",
       " (112, u'Yoga Lessons'),\n",
       " (113, u'Swimming Lessons')]"
      ]
     },
     "execution_count": 16,
     "metadata": {},
     "output_type": "execute_result"
    }
   ],
   "source": [
    "c.execute('SELECT category_id, name FROM categories')\n",
    "c.fetchall()"
   ]
  },
  {
   "cell_type": "code",
   "execution_count": 17,
   "metadata": {
    "collapsed": false
   },
   "outputs": [
    {
     "data": {
      "text/plain": [
       "[(24622,)]"
      ]
     },
     "execution_count": 17,
     "metadata": {},
     "output_type": "execute_result"
    }
   ],
   "source": [
    "c.execute('SELECT COUNT(*) from invites')\n",
    "c.fetchall()"
   ]
  },
  {
   "cell_type": "code",
   "execution_count": 22,
   "metadata": {
    "collapsed": false
   },
   "outputs": [
    {
     "data": {
      "text/plain": [
       "[(1, 1, 312, u'2013-07-01 13:20:05.072029'),\n",
       " (2, 1, 850, u'2013-07-01 15:49:33.110849'),\n",
       " (3, 1, 555, u'2013-07-01 13:39:18.608330'),\n",
       " (4, 1, 917, u'2013-07-01 08:56:11.751781'),\n",
       " (5, 1, 215, u'2013-07-01 08:40:24.151670')]"
      ]
     },
     "execution_count": 22,
     "metadata": {},
     "output_type": "execute_result"
    }
   ],
   "source": [
    "c.execute('SELECT * FROM invites LIMIT 5')\n",
    "c.fetchall()"
   ]
  },
  {
   "cell_type": "code",
   "execution_count": null,
   "metadata": {
    "collapsed": true
   },
   "outputs": [],
   "source": []
  }
 ],
 "metadata": {
  "kernelspec": {
   "display_name": "Python 2",
   "language": "python",
   "name": "python2"
  },
  "language_info": {
   "codemirror_mode": {
    "name": "ipython",
    "version": 2
   },
   "file_extension": ".py",
   "mimetype": "text/x-python",
   "name": "python",
   "nbconvert_exporter": "python",
   "pygments_lexer": "ipython2",
   "version": "2.7.6"
  }
 },
 "nbformat": 4,
 "nbformat_minor": 0
}
